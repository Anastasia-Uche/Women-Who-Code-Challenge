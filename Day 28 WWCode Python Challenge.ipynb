{
 "cells": [
  {
   "cell_type": "markdown",
   "id": "0b0ef95a",
   "metadata": {},
   "source": [
    "# Women Who Code Python Challenge"
   ]
  },
  {
   "cell_type": "markdown",
   "id": "590c560c",
   "metadata": {},
   "source": [
    "**Day 28: Create a program that removes the nth element from a list.**"
   ]
  },
  {
   "cell_type": "code",
   "execution_count": 1,
   "id": "3283b122",
   "metadata": {},
   "outputs": [
    {
     "name": "stdout",
     "output_type": "stream",
     "text": [
      "Enter a number between 0 and 3: 2\n",
      "Original List: [30, 155, 25, 89]\n",
      "List after removing the nth element: [30, 155, 89]\n"
     ]
    }
   ],
   "source": [
    "def remove_nth_element(lst, n):\n",
    "    \n",
    "    if n < 0 or n >= len(lst):\n",
    "        print(\"Invalid Index\")\n",
    "        return lst\n",
    "    else:\n",
    "        del lst[n]\n",
    "        return lst\n",
    "    \n",
    "# Example:\n",
    "My_list = [30, 155, 25, 89]\n",
    "try:\n",
    "    n = int(input(\"Enter a number between 0 and 3: \"))\n",
    "except ValueError:\n",
    "    print(\"Invalid Index\")\n",
    "\n",
    "print(\"Original List:\", My_list)\n",
    "lst = remove_nth_element(My_list, n)\n",
    "\n",
    "print(\"List after removing the nth element:\", lst)"
   ]
  },
  {
   "cell_type": "code",
   "execution_count": null,
   "id": "30263270",
   "metadata": {},
   "outputs": [],
   "source": []
  }
 ],
 "metadata": {
  "kernelspec": {
   "display_name": "Python 3 (ipykernel)",
   "language": "python",
   "name": "python3"
  },
  "language_info": {
   "codemirror_mode": {
    "name": "ipython",
    "version": 3
   },
   "file_extension": ".py",
   "mimetype": "text/x-python",
   "name": "python",
   "nbconvert_exporter": "python",
   "pygments_lexer": "ipython3",
   "version": "3.11.5"
  }
 },
 "nbformat": 4,
 "nbformat_minor": 5
}
