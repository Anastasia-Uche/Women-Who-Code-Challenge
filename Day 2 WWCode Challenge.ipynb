{
 "cells": [
  {
   "cell_type": "markdown",
   "id": "b922374c",
   "metadata": {},
   "source": [
    "# Women Who Code Python Challenge"
   ]
  },
  {
   "cell_type": "markdown",
   "id": "859fed0e",
   "metadata": {},
   "source": [
    "Day 2: Create a program to calculate the area of a circle given its radius"
   ]
  },
  {
   "cell_type": "code",
   "execution_count": 2,
   "id": "0ed7b688",
   "metadata": {},
   "outputs": [
    {
     "name": "stdout",
     "output_type": "stream",
     "text": [
      "Enter the radius of the circle: 5\n",
      "The area of the circle with radius 5.0 is: 78.53981633974483\n"
     ]
    }
   ],
   "source": [
    "import math\n",
    "\n",
    "def calculate_circle_area(radius):\n",
    "    if radius < 0:\n",
    "        return \"Wrong radius! Radius must be a positive integer.\"\n",
    "    \n",
    "    area = math.pi * radius ** 2\n",
    "    return area\n",
    "\n",
    "radius_input = float(input(\"Enter the radius of the circle: \")) # User Input\n",
    "\n",
    "radius = calculate_circle_area(radius_input)\n",
    "print(f\"The area of the circle with radius {radius_input} is: {radius}\")"
   ]
  },
  {
   "cell_type": "code",
   "execution_count": null,
   "id": "75d3979c",
   "metadata": {},
   "outputs": [],
   "source": []
  }
 ],
 "metadata": {
  "kernelspec": {
   "display_name": "Python 3 (ipykernel)",
   "language": "python",
   "name": "python3"
  },
  "language_info": {
   "codemirror_mode": {
    "name": "ipython",
    "version": 3
   },
   "file_extension": ".py",
   "mimetype": "text/x-python",
   "name": "python",
   "nbconvert_exporter": "python",
   "pygments_lexer": "ipython3",
   "version": "3.11.5"
  }
 },
 "nbformat": 4,
 "nbformat_minor": 5
}
