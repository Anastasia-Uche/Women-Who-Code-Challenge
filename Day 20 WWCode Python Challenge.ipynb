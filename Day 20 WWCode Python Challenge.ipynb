{
 "cells": [
  {
   "cell_type": "markdown",
   "id": "fce21fc4",
   "metadata": {},
   "source": [
    "# Women Who Code Python Challenge"
   ]
  },
  {
   "cell_type": "markdown",
   "id": "0498e87e",
   "metadata": {},
   "source": [
    "**Day 20: Write a function that takes a list of numbers and returns a new list containing only the even numbers.**"
   ]
  },
  {
   "cell_type": "code",
   "execution_count": 2,
   "id": "b3dbcd01",
   "metadata": {},
   "outputs": [
    {
     "name": "stdout",
     "output_type": "stream",
     "text": [
      "Original List: [20, 13, 4, 18, 12, 14, 6, 7, 3, 35, 8, 22]\n",
      "Even Numbers: [20, 4, 18, 12, 14, 6, 8, 22]\n"
     ]
    }
   ],
   "source": [
    "def even_num_list_filter(my_list):\n",
    "    \n",
    "    even_num_list = []\n",
    "    \n",
    "    for i in my_lst:\n",
    "        if i % 2 == 0:\n",
    "            even_num_list.append(i)\n",
    "    return even_num_list\n",
    "\n",
    "#Example:\n",
    "my_lst = [20, 13, 4, 18, 12, 14, 6, 7, 3, 35, 8, 22]\n",
    "Even_numbers = even_num_list_filter(my_lst)\n",
    "\n",
    "print(\"Original List:\", my_lst)\n",
    "print(\"Even Numbers:\", Even_numbers)"
   ]
  },
  {
   "cell_type": "code",
   "execution_count": null,
   "id": "6d45663d",
   "metadata": {},
   "outputs": [],
   "source": []
  }
 ],
 "metadata": {
  "kernelspec": {
   "display_name": "Python 3 (ipykernel)",
   "language": "python",
   "name": "python3"
  },
  "language_info": {
   "codemirror_mode": {
    "name": "ipython",
    "version": 3
   },
   "file_extension": ".py",
   "mimetype": "text/x-python",
   "name": "python",
   "nbconvert_exporter": "python",
   "pygments_lexer": "ipython3",
   "version": "3.11.5"
  }
 },
 "nbformat": 4,
 "nbformat_minor": 5
}
