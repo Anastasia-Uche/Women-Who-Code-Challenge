{
 "cells": [
  {
   "cell_type": "markdown",
   "id": "644c4cfe",
   "metadata": {},
   "source": [
    "# Women Who Code Python Challenge"
   ]
  },
  {
   "cell_type": "markdown",
   "id": "47b06739",
   "metadata": {},
   "source": [
    "Day 6: Write a program to count the occurrences of a specific character in a string"
   ]
  },
  {
   "cell_type": "code",
   "execution_count": 2,
   "id": "673949ed",
   "metadata": {},
   "outputs": [
    {
     "name": "stdout",
     "output_type": "stream",
     "text": [
      "The character o appears 2 times in the string\n"
     ]
    }
   ],
   "source": [
    "def count_character_occurrences(input_string, target_string):\n",
    "    \n",
    "    count = 0\n",
    "    \n",
    "    for i in input_string:\n",
    "        if i in target_string:\n",
    "            count += 1\n",
    "            \n",
    "    return count\n",
    "\n",
    "# Example;\n",
    "Input_string = \"Wonder_woman\"\n",
    "Target_string = \"o\"\n",
    "\n",
    "Character_Occurrence = count_character_occurrences(Input_string, Target_string)\n",
    "\n",
    "print(f\"The character {Target_string} appears {Character_Occurrence} times in the string\")"
   ]
  },
  {
   "cell_type": "code",
   "execution_count": null,
   "id": "3f64c802",
   "metadata": {},
   "outputs": [],
   "source": []
  }
 ],
 "metadata": {
  "kernelspec": {
   "display_name": "Python 3 (ipykernel)",
   "language": "python",
   "name": "python3"
  },
  "language_info": {
   "codemirror_mode": {
    "name": "ipython",
    "version": 3
   },
   "file_extension": ".py",
   "mimetype": "text/x-python",
   "name": "python",
   "nbconvert_exporter": "python",
   "pygments_lexer": "ipython3",
   "version": "3.11.5"
  }
 },
 "nbformat": 4,
 "nbformat_minor": 5
}
