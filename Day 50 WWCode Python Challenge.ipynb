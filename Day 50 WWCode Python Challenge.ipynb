{
 "cells": [
  {
   "cell_type": "markdown",
   "id": "59c8131d",
   "metadata": {},
   "source": [
    "### Women Who Code Python Challenge"
   ]
  },
  {
   "cell_type": "markdown",
   "id": "083e8267",
   "metadata": {},
   "source": [
    "**Day 50: Create a program that finds the intersection and union of two sets.**"
   ]
  },
  {
   "cell_type": "code",
   "execution_count": 1,
   "id": "33575169",
   "metadata": {},
   "outputs": [
    {
     "name": "stdout",
     "output_type": "stream",
     "text": [
      "Enter elements of the first set (comma-separated): 2,6,8,5,1\n",
      "Enter elements of the second set (comma-separated): 3,2,5,7,4\n",
      "Intersection: {'2', '5'}\n",
      "Union: {'7', '5', '3', '1', '6', '8', '4', '2'}\n"
     ]
    }
   ],
   "source": [
    "def intersection(set_1, set_2):\n",
    "    return set_1.intersection(set_2)\n",
    "\n",
    "def union(set_1, set_2):\n",
    "    return set_1.union(set_2)\n",
    "\n",
    "\n",
    "# Example:\n",
    "set_1 = set(input(\"Enter elements of the first set (comma-separated): \").split(\",\"))\n",
    "set_2 = set(input(\"Enter elements of the second set (comma-separated): \").split(\",\"))\n",
    "\n",
    "intersection_of_sets = intersection(set_1, set_2)\n",
    "union_of_sets = union(set_1, set_2)\n",
    "\n",
    "print(\"Intersection:\", intersection_of_sets)\n",
    "print(\"Union:\", union_of_sets)"
   ]
  },
  {
   "cell_type": "code",
   "execution_count": null,
   "id": "edb8adf7",
   "metadata": {},
   "outputs": [],
   "source": []
  }
 ],
 "metadata": {
  "kernelspec": {
   "display_name": "Python 3 (ipykernel)",
   "language": "python",
   "name": "python3"
  },
  "language_info": {
   "codemirror_mode": {
    "name": "ipython",
    "version": 3
   },
   "file_extension": ".py",
   "mimetype": "text/x-python",
   "name": "python",
   "nbconvert_exporter": "python",
   "pygments_lexer": "ipython3",
   "version": "3.11.5"
  }
 },
 "nbformat": 4,
 "nbformat_minor": 5
}
