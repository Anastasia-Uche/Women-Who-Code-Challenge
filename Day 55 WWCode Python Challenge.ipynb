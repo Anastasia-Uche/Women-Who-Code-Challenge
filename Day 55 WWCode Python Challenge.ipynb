{
 "cells": [
  {
   "cell_type": "markdown",
   "id": "7a2e5128",
   "metadata": {},
   "source": [
    "### Women Who Code Python Challenge"
   ]
  },
  {
   "cell_type": "markdown",
   "id": "bcdaf1ca",
   "metadata": {},
   "source": [
    "**Day 55: Create a function that takes a string and returns the reverse of each word.**"
   ]
  },
  {
   "cell_type": "code",
   "execution_count": 1,
   "id": "8a11d04f",
   "metadata": {},
   "outputs": [
    {
     "name": "stdout",
     "output_type": "stream",
     "text": [
      "Enter string: she is a beautiful woman\n",
      "ehs si a lufituaeb namow\n"
     ]
    }
   ],
   "source": [
    "def reverse_word(string):\n",
    "    \n",
    "    words = string.split()\n",
    "    reversed_words = []\n",
    "    \n",
    "    for word in words:\n",
    "        reversed_word = word[::-1]\n",
    "        reversed_words.append(reversed_word)\n",
    "    return ' '.join(reversed_words)\n",
    "\n",
    "\n",
    "string_input = input(\"Enter string: \")\n",
    "print(reverse_word(string_input))"
   ]
  },
  {
   "cell_type": "code",
   "execution_count": null,
   "id": "09ff29b2",
   "metadata": {},
   "outputs": [],
   "source": []
  }
 ],
 "metadata": {
  "kernelspec": {
   "display_name": "Python 3 (ipykernel)",
   "language": "python",
   "name": "python3"
  },
  "language_info": {
   "codemirror_mode": {
    "name": "ipython",
    "version": 3
   },
   "file_extension": ".py",
   "mimetype": "text/x-python",
   "name": "python",
   "nbconvert_exporter": "python",
   "pygments_lexer": "ipython3",
   "version": "3.11.5"
  }
 },
 "nbformat": 4,
 "nbformat_minor": 5
}
