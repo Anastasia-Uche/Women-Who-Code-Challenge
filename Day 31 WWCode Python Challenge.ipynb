{
 "cells": [
  {
   "cell_type": "markdown",
   "id": "b431a0dc",
   "metadata": {},
   "source": [
    "# Women Who Code Python Challenge"
   ]
  },
  {
   "cell_type": "markdown",
   "id": "c2591000",
   "metadata": {},
   "source": [
    "**Day 31: Create a program that checks if a given string is a valid email address.**"
   ]
  },
  {
   "cell_type": "code",
   "execution_count": 2,
   "id": "6cca9fb7",
   "metadata": {},
   "outputs": [
    {
     "name": "stdout",
     "output_type": "stream",
     "text": [
      "Enter a valid email address: uche@gmail.com\n",
      "uche@gmail.com is a valid email\n"
     ]
    }
   ],
   "source": [
    "def check_valid_email(string):\n",
    "    \n",
    "    Valid_domains = {\"@gmail.com\", \"@yahoo.com\", \"@hotmail.com\"}\n",
    "    \n",
    "    for domain in Valid_domains:\n",
    "        if domain in string:\n",
    "            return f\"{string.lower()} is a valid email\"\n",
    "    return \"Invalid Email\"\n",
    "\n",
    "My_string = input(\"Enter a valid email address: \")\n",
    "Email_address = check_valid_email(My_string)\n",
    "\n",
    "print(Email_address)"
   ]
  },
  {
   "cell_type": "code",
   "execution_count": null,
   "id": "265cb9e2",
   "metadata": {},
   "outputs": [],
   "source": []
  }
 ],
 "metadata": {
  "kernelspec": {
   "display_name": "Python 3 (ipykernel)",
   "language": "python",
   "name": "python3"
  },
  "language_info": {
   "codemirror_mode": {
    "name": "ipython",
    "version": 3
   },
   "file_extension": ".py",
   "mimetype": "text/x-python",
   "name": "python",
   "nbconvert_exporter": "python",
   "pygments_lexer": "ipython3",
   "version": "3.11.5"
  }
 },
 "nbformat": 4,
 "nbformat_minor": 5
}
