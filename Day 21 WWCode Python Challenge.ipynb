{
 "cells": [
  {
   "cell_type": "markdown",
   "id": "2a73e1a4",
   "metadata": {},
   "source": [
    "# Women Who Code Python Challenge"
   ]
  },
  {
   "cell_type": "markdown",
   "id": "e7e4d4af",
   "metadata": {},
   "source": [
    "**Day 21: Create a program to remove a specific element from a set.**"
   ]
  },
  {
   "cell_type": "code",
   "execution_count": 1,
   "id": "45900f38",
   "metadata": {},
   "outputs": [
    {
     "name": "stdout",
     "output_type": "stream",
     "text": [
      "20 has been removed from your set\n"
     ]
    },
    {
     "data": {
      "text/plain": [
       "{12, 5, 6, 9, 'challenge', 'code', 'women'}"
      ]
     },
     "execution_count": 1,
     "metadata": {},
     "output_type": "execute_result"
    }
   ],
   "source": [
    "def remove_elem_set(my_set, element_to_remove):\n",
    "    \n",
    "    if element_to_remove in my_set:\n",
    "        my_set.remove(element_to_remove)\n",
    "        print(f\"{element_to_remove} has been removed from your set\")\n",
    "    else:\n",
    "        print(f\"{element_to_remove} is not in the set\")\n",
    "    \n",
    "    return my_set\n",
    "\n",
    "# Example:\n",
    "My_set = {5, 9, 'challenge', 'code', 20, 'women', 12, 6}\n",
    "\n",
    "remove_elem_set(My_set, 20)"
   ]
  },
  {
   "cell_type": "code",
   "execution_count": null,
   "id": "5d6641ef",
   "metadata": {},
   "outputs": [],
   "source": []
  }
 ],
 "metadata": {
  "kernelspec": {
   "display_name": "Python 3 (ipykernel)",
   "language": "python",
   "name": "python3"
  },
  "language_info": {
   "codemirror_mode": {
    "name": "ipython",
    "version": 3
   },
   "file_extension": ".py",
   "mimetype": "text/x-python",
   "name": "python",
   "nbconvert_exporter": "python",
   "pygments_lexer": "ipython3",
   "version": "3.11.5"
  }
 },
 "nbformat": 4,
 "nbformat_minor": 5
}
