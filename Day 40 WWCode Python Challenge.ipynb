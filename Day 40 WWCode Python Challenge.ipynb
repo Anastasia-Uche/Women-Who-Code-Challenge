{
 "cells": [
  {
   "cell_type": "markdown",
   "id": "3582d58b",
   "metadata": {},
   "source": [
    "### Women Who Code Python Challenge"
   ]
  },
  {
   "cell_type": "markdown",
   "id": "fa11d6dd",
   "metadata": {},
   "source": [
    "**Day 40: Write a function to find the largest common divisor of two numbers using a function.**"
   ]
  },
  {
   "cell_type": "code",
   "execution_count": 2,
   "id": "c40d2785",
   "metadata": {},
   "outputs": [
    {
     "name": "stdout",
     "output_type": "stream",
     "text": [
      "Enter a positive number: 300\n",
      "Enter a second number: 120\n",
      "The largest common divisor of 300 and 120 is 60.\n"
     ]
    }
   ],
   "source": [
    "def find_largest_common_divisor(num1, num2):\n",
    "    \n",
    "    while num2:\n",
    "        num1, num2 = num2, num1 % num2\n",
    "    return num1\n",
    "\n",
    "Num1 = int(input(\"Enter a positive number: \"))\n",
    "Num2 = int(input(\"Enter a second number: \"))\n",
    "Divisor = find_largest_common_divisor(Num1, Num2)\n",
    "print(f\"The largest common divisor of {Num1} and {Num2} is {Divisor}.\")"
   ]
  },
  {
   "cell_type": "code",
   "execution_count": null,
   "id": "8b48422d",
   "metadata": {},
   "outputs": [],
   "source": []
  }
 ],
 "metadata": {
  "kernelspec": {
   "display_name": "Python 3 (ipykernel)",
   "language": "python",
   "name": "python3"
  },
  "language_info": {
   "codemirror_mode": {
    "name": "ipython",
    "version": 3
   },
   "file_extension": ".py",
   "mimetype": "text/x-python",
   "name": "python",
   "nbconvert_exporter": "python",
   "pygments_lexer": "ipython3",
   "version": "3.11.5"
  }
 },
 "nbformat": 4,
 "nbformat_minor": 5
}
