{
 "cells": [
  {
   "cell_type": "markdown",
   "id": "ccf44b74",
   "metadata": {},
   "source": [
    "### Women Who Code Python Challenge"
   ]
  },
  {
   "cell_type": "markdown",
   "id": "8c2c161e",
   "metadata": {},
   "source": [
    "**Day 44: Write a program that reads an integer from the user and handles invalid inputs.**"
   ]
  },
  {
   "cell_type": "code",
   "execution_count": 1,
   "id": "095a11d4",
   "metadata": {},
   "outputs": [
    {
     "name": "stdout",
     "output_type": "stream",
     "text": [
      "Enter an integer: three\n",
      "Invalid Input! Input must be an integer\n",
      "Enter an integer: -20\n",
      "Integer must be a positive number greater than 0\n",
      "Enter an integer: 0\n",
      "Integer must be a positive number greater than 0\n",
      "Enter an integer: 15\n"
     ]
    },
    {
     "data": {
      "text/plain": [
       "15"
      ]
     },
     "execution_count": 1,
     "metadata": {},
     "output_type": "execute_result"
    }
   ],
   "source": [
    "def get_integer_inputs():\n",
    "    \n",
    "    while True:\n",
    "        try:\n",
    "            user_input = int(input(\"Enter an integer: \"))\n",
    "            if user_input <= 0:\n",
    "                print(\"Integer must be a positive number greater than 0\")\n",
    "            else:\n",
    "                return user_input\n",
    "        except ValueError:\n",
    "            print(\"Invalid Input! Input must be an integer\")\n",
    "            \n",
    "\n",
    "get_integer_inputs()"
   ]
  },
  {
   "cell_type": "code",
   "execution_count": null,
   "id": "cec65cfc",
   "metadata": {},
   "outputs": [],
   "source": []
  }
 ],
 "metadata": {
  "kernelspec": {
   "display_name": "Python 3 (ipykernel)",
   "language": "python",
   "name": "python3"
  },
  "language_info": {
   "codemirror_mode": {
    "name": "ipython",
    "version": 3
   },
   "file_extension": ".py",
   "mimetype": "text/x-python",
   "name": "python",
   "nbconvert_exporter": "python",
   "pygments_lexer": "ipython3",
   "version": "3.11.5"
  }
 },
 "nbformat": 4,
 "nbformat_minor": 5
}
