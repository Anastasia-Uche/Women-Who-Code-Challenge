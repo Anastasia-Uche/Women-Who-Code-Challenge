{
 "cells": [
  {
   "cell_type": "markdown",
   "id": "a6d07580",
   "metadata": {},
   "source": [
    "# Women Who Code Python Challenge"
   ]
  },
  {
   "cell_type": "markdown",
   "id": "5cc6bc9a",
   "metadata": {},
   "source": [
    "**Day 26: Create a program that uses lamda function to square each element of a list.**"
   ]
  },
  {
   "cell_type": "code",
   "execution_count": 1,
   "id": "44553db4",
   "metadata": {},
   "outputs": [
    {
     "name": "stdout",
     "output_type": "stream",
     "text": [
      "Original List: [5, 9, 7, 12, 8]\n",
      "Squared List: [25, 81, 49, 144, 64]\n"
     ]
    }
   ],
   "source": [
    "My_list = [5, 9, 7, 12, 8] # Define a list of numbers\n",
    "\n",
    "Squared_list = list(map(lambda x: x**2, My_list)) # Use a lambda function to square each element of the list\n",
    "\n",
    "# Print the original and squared lists\n",
    "print(\"Original List:\", My_list)\n",
    "print(\"Squared List:\", Squared_list)"
   ]
  },
  {
   "cell_type": "code",
   "execution_count": null,
   "id": "638a5bb3",
   "metadata": {},
   "outputs": [],
   "source": []
  }
 ],
 "metadata": {
  "kernelspec": {
   "display_name": "Python 3 (ipykernel)",
   "language": "python",
   "name": "python3"
  },
  "language_info": {
   "codemirror_mode": {
    "name": "ipython",
    "version": 3
   },
   "file_extension": ".py",
   "mimetype": "text/x-python",
   "name": "python",
   "nbconvert_exporter": "python",
   "pygments_lexer": "ipython3",
   "version": "3.11.5"
  }
 },
 "nbformat": 4,
 "nbformat_minor": 5
}
