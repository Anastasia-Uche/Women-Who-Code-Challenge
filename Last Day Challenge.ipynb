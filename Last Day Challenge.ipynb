{
 "cells": [
  {
   "cell_type": "markdown",
   "id": "7f708a53",
   "metadata": {},
   "source": [
    "### Women Who Code Python Challenge"
   ]
  },
  {
   "cell_type": "markdown",
   "id": "3676568e",
   "metadata": {},
   "source": [
    "**Day 60: Create a program to implement a stack using a list.** "
   ]
  },
  {
   "cell_type": "code",
   "execution_count": 1,
   "id": "f1994dfd",
   "metadata": {},
   "outputs": [
    {
     "name": "stdout",
     "output_type": "stream",
     "text": [
      "Stack size: 3\n",
      "Top of stack: 15\n",
      "Popped item: 15\n",
      "Stack size after popping: 2\n"
     ]
    }
   ],
   "source": [
    "class Stack:\n",
    "    def __init__(self):\n",
    "        self.items = []\n",
    "\n",
    "    def is_empty(self):\n",
    "        return len(self.items) == 0\n",
    "\n",
    "    def push(self, item):\n",
    "        self.items.append(item)\n",
    "\n",
    "    def pop(self):\n",
    "        if not self.is_empty():\n",
    "            return self.items.pop()\n",
    "        else:\n",
    "            print(\"Stack is empty\")\n",
    "            return None\n",
    "\n",
    "    def peek(self):\n",
    "        if not self.is_empty():\n",
    "            return self.items[-1]\n",
    "        else:\n",
    "            print(\"Stack is empty\")\n",
    "            return None\n",
    "\n",
    "    def size(self):\n",
    "        return len(self.items)\n",
    "\n",
    "\n",
    "# Example:\n",
    "if __name__ == \"__main__\":\n",
    "    stack = Stack()\n",
    "    stack.push(5)\n",
    "    stack.push(10)\n",
    "    stack.push(15)\n",
    "\n",
    "    print(\"Stack size:\", stack.size())  # Output: 3\n",
    "    print(\"Top of stack:\", stack.peek())  # Output: 15\n",
    "\n",
    "    item = stack.pop()  # Popping top element\n",
    "    print(\"Popped item:\", item)  # Output: 15\n",
    "\n",
    "    print(\"Stack size after popping:\", stack.size())  # Output: 2"
   ]
  },
  {
   "cell_type": "code",
   "execution_count": null,
   "id": "dbf222a7",
   "metadata": {},
   "outputs": [],
   "source": []
  }
 ],
 "metadata": {
  "kernelspec": {
   "display_name": "Python 3 (ipykernel)",
   "language": "python",
   "name": "python3"
  },
  "language_info": {
   "codemirror_mode": {
    "name": "ipython",
    "version": 3
   },
   "file_extension": ".py",
   "mimetype": "text/x-python",
   "name": "python",
   "nbconvert_exporter": "python",
   "pygments_lexer": "ipython3",
   "version": "3.11.5"
  }
 },
 "nbformat": 4,
 "nbformat_minor": 5
}
