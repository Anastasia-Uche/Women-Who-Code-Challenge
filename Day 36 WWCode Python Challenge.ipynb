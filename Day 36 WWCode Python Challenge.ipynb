{
 "cells": [
  {
   "cell_type": "markdown",
   "id": "af6a953c",
   "metadata": {},
   "source": [
    "# Women Who Code Python Challenge"
   ]
  },
  {
   "cell_type": "markdown",
   "id": "eb1d6ae1",
   "metadata": {},
   "source": [
    "**Day 36: Write a program to check if two strings are anagrams.**"
   ]
  },
  {
   "cell_type": "code",
   "execution_count": 1,
   "id": "42ad8a68",
   "metadata": {},
   "outputs": [
    {
     "name": "stdout",
     "output_type": "stream",
     "text": [
      "Enter first string: loop\n",
      "Enter second string: pool\n",
      "\"loop\" and \"pool\" are anagrams.\n"
     ]
    }
   ],
   "source": [
    "def check_anagrams(str1, str2):\n",
    "\n",
    "    if len(str1) != len(str2):\n",
    "        return False\n",
    "\n",
    "    sorted_str1 = sorted(str1)\n",
    "    sorted_str2 = sorted(str2)\n",
    "    \n",
    "    if sorted_str1 == sorted_str2:\n",
    "        return True\n",
    "    else:\n",
    "        return False\n",
    "\n",
    "# Example\n",
    "Str_1 = input(\"Enter first string: \")\n",
    "Str_2 = input(\"Enter second string: \")\n",
    "\n",
    "if check_anagrams(Str_1, Str_2):\n",
    "    print(f'\"{Str_1}\" and \"{Str_2}\" are anagrams.')\n",
    "else:\n",
    "    print(f'\"{Str_1}\" and \"{Str_2}\" are not anagrams.')"
   ]
  },
  {
   "cell_type": "code",
   "execution_count": null,
   "id": "df7078fb",
   "metadata": {},
   "outputs": [],
   "source": []
  }
 ],
 "metadata": {
  "kernelspec": {
   "display_name": "Python 3 (ipykernel)",
   "language": "python",
   "name": "python3"
  },
  "language_info": {
   "codemirror_mode": {
    "name": "ipython",
    "version": 3
   },
   "file_extension": ".py",
   "mimetype": "text/x-python",
   "name": "python",
   "nbconvert_exporter": "python",
   "pygments_lexer": "ipython3",
   "version": "3.11.5"
  }
 },
 "nbformat": 4,
 "nbformat_minor": 5
}
