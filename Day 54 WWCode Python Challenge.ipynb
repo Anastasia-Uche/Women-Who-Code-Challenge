{
 "cells": [
  {
   "cell_type": "markdown",
   "id": "a457b2eb",
   "metadata": {},
   "source": [
    "### Women Who Code Python Challenge"
   ]
  },
  {
   "cell_type": "markdown",
   "id": "5f8c569a",
   "metadata": {},
   "source": [
    "**Day 54: Create a function to find all words in a sentence that start with a vowel.**"
   ]
  },
  {
   "cell_type": "code",
   "execution_count": 1,
   "id": "3f076124",
   "metadata": {},
   "outputs": [
    {
     "name": "stdout",
     "output_type": "stream",
     "text": [
      "Enter sentence: Owl feathers are adapted for silent flight, helping them hunt effectively.\n",
      "['Owl', 'are', 'adapted', 'effectively.']\n"
     ]
    }
   ],
   "source": [
    "def find_words_that_start_with_vowel(sentence):\n",
    "    \n",
    "    vowels = \"AIEOUaeiou\"\n",
    "    words = sentence.split()\n",
    "    vowel_words = []\n",
    "    for word in words:\n",
    "        if word[0] in vowels:\n",
    "            vowel_words.append(word)\n",
    "    return vowel_words\n",
    "\n",
    "\n",
    "# Example:\n",
    "Sentence = input(\"Enter sentence: \")\n",
    "print(find_words_that_start_with_vowel(Sentence))"
   ]
  },
  {
   "cell_type": "code",
   "execution_count": null,
   "id": "4712e4b8",
   "metadata": {},
   "outputs": [],
   "source": []
  }
 ],
 "metadata": {
  "kernelspec": {
   "display_name": "Python 3 (ipykernel)",
   "language": "python",
   "name": "python3"
  },
  "language_info": {
   "codemirror_mode": {
    "name": "ipython",
    "version": 3
   },
   "file_extension": ".py",
   "mimetype": "text/x-python",
   "name": "python",
   "nbconvert_exporter": "python",
   "pygments_lexer": "ipython3",
   "version": "3.11.5"
  }
 },
 "nbformat": 4,
 "nbformat_minor": 5
}
