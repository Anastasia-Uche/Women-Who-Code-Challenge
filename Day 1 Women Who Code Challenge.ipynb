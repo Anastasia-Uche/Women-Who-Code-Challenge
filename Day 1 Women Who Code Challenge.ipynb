{
 "cells": [
  {
   "cell_type": "markdown",
   "id": "210e920f",
   "metadata": {},
   "source": [
    "## Women Who Code Python Challenge"
   ]
  },
  {
   "cell_type": "markdown",
   "id": "eee65fb3",
   "metadata": {},
   "source": [
    "Day 1: Create a program that swaps the values of two variables"
   ]
  },
  {
   "cell_type": "code",
   "execution_count": 1,
   "id": "2c06c9b3",
   "metadata": {},
   "outputs": [
    {
     "name": "stdout",
     "output_type": "stream",
     "text": [
      "Var_1 = Code\n",
      "Var_2 = women\n"
     ]
    }
   ],
   "source": [
    "Var_1 = \"women\"\n",
    "Var_2 = \"Code\"\n",
    "\n",
    "# Swaping the two variables;\n",
    "\n",
    "Var_1, Var_2 = Var_2, Var_1\n",
    "\n",
    "print(\"Var_1 =\", Var_1)\n",
    "print(\"Var_2 =\", Var_2)"
   ]
  },
  {
   "cell_type": "code",
   "execution_count": null,
   "id": "59139333",
   "metadata": {},
   "outputs": [],
   "source": []
  },
  {
   "cell_type": "code",
   "execution_count": null,
   "id": "2839d538",
   "metadata": {},
   "outputs": [],
   "source": []
  },
  {
   "cell_type": "code",
   "execution_count": null,
   "id": "b9bb731d",
   "metadata": {},
   "outputs": [],
   "source": []
  }
 ],
 "metadata": {
  "kernelspec": {
   "display_name": "Python 3 (ipykernel)",
   "language": "python",
   "name": "python3"
  },
  "language_info": {
   "codemirror_mode": {
    "name": "ipython",
    "version": 3
   },
   "file_extension": ".py",
   "mimetype": "text/x-python",
   "name": "python",
   "nbconvert_exporter": "python",
   "pygments_lexer": "ipython3",
   "version": "3.11.5"
  }
 },
 "nbformat": 4,
 "nbformat_minor": 5
}
