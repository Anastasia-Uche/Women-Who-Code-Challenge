{
 "cells": [
  {
   "cell_type": "markdown",
   "id": "243d2b44",
   "metadata": {},
   "source": [
    "# Women Who Code Python Challenge"
   ]
  },
  {
   "cell_type": "markdown",
   "id": "54b45012",
   "metadata": {},
   "source": [
    "**Day 37: Write a program to iterate through a dictionary and print its keys and values.**"
   ]
  },
  {
   "cell_type": "code",
   "execution_count": 1,
   "id": "7255ce94",
   "metadata": {},
   "outputs": [
    {
     "name": "stdout",
     "output_type": "stream",
     "text": [
      "The keys and values of your dictionary are:\n",
      "Mother : Father\n",
      "Sister : Brother\n",
      "Son : Daughter\n",
      "Water : Thirsty\n",
      "None\n"
     ]
    }
   ],
   "source": [
    "def iterate_dict(dictionary):\n",
    "    \n",
    "    print(\"The keys and values of your dictionary are:\")\n",
    "    for keys, values in dictionary.items():\n",
    "        print(f\"{keys} : {values}\")\n",
    "\n",
    "# Example   \n",
    "My_dict = {\"Mother\": \"Father\", \"Sister\": \"Brother\", \"Son\": \"Daughter\", \"Water\": \"Thirsty\"}\n",
    "Iterated_dictionary = iterate_dict(My_dict)\n",
    "print(Iterated_dictionary)"
   ]
  },
  {
   "cell_type": "code",
   "execution_count": null,
   "id": "ed9c752b",
   "metadata": {},
   "outputs": [],
   "source": []
  }
 ],
 "metadata": {
  "kernelspec": {
   "display_name": "Python 3 (ipykernel)",
   "language": "python",
   "name": "python3"
  },
  "language_info": {
   "codemirror_mode": {
    "name": "ipython",
    "version": 3
   },
   "file_extension": ".py",
   "mimetype": "text/x-python",
   "name": "python",
   "nbconvert_exporter": "python",
   "pygments_lexer": "ipython3",
   "version": "3.11.5"
  }
 },
 "nbformat": 4,
 "nbformat_minor": 5
}
