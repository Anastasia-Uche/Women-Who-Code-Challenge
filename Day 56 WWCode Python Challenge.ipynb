{
 "cells": [
  {
   "cell_type": "markdown",
   "id": "00fb8b2e",
   "metadata": {},
   "source": [
    "### Women Who Code Python Challenge"
   ]
  },
  {
   "cell_type": "markdown",
   "id": "206dbae3",
   "metadata": {},
   "source": [
    "**Day 56: Create a function to extract all URLs from a given text using regular expressions.**"
   ]
  },
  {
   "cell_type": "code",
   "execution_count": 1,
   "id": "85aef481",
   "metadata": {},
   "outputs": [
    {
     "name": "stdout",
     "output_type": "stream",
     "text": [
      "['https://www.nytimes.com', 'https://www.bbc.com', 'https://edition.cnn.com', 'https://www.theguardian.com', 'https://www.example.com', 'http://another-example.com']\n"
     ]
    }
   ],
   "source": [
    "import re\n",
    "\n",
    "def extract_urls(text):\n",
    "    # Regular expression to match URLs\n",
    "    url_pattern = r'https?://(?:[-\\w.]|(?:%[\\da-fA-F]{2}))+'\n",
    "\n",
    "    urls = re.findall(url_pattern, text)\n",
    "    \n",
    "    return urls\n",
    "\n",
    "# Example:\n",
    "text = \"Here are some example URLs: News Websites: https://www.nytimes.com/,https://www.bbc.com/news,https://edition.cnn.com/,https://www.theguardian.com/international, https://www.example.com, http://another-example.com\"\n",
    "urls = extract_urls(text)\n",
    "print(urls)"
   ]
  },
  {
   "cell_type": "code",
   "execution_count": null,
   "id": "9d683b50",
   "metadata": {},
   "outputs": [],
   "source": []
  }
 ],
 "metadata": {
  "kernelspec": {
   "display_name": "Python 3 (ipykernel)",
   "language": "python",
   "name": "python3"
  },
  "language_info": {
   "codemirror_mode": {
    "name": "ipython",
    "version": 3
   },
   "file_extension": ".py",
   "mimetype": "text/x-python",
   "name": "python",
   "nbconvert_exporter": "python",
   "pygments_lexer": "ipython3",
   "version": "3.11.5"
  }
 },
 "nbformat": 4,
 "nbformat_minor": 5
}
