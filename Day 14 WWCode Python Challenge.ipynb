{
 "cells": [
  {
   "cell_type": "markdown",
   "id": "6fcb4b61",
   "metadata": {},
   "source": [
    "# Women Who Code Python Challenge"
   ]
  },
  {
   "cell_type": "markdown",
   "id": "7d82844f",
   "metadata": {},
   "source": [
    "**Day 14: Write a program to print the first n numbers of a Fibonacci sequence.**"
   ]
  },
  {
   "cell_type": "code",
   "execution_count": 2,
   "id": "0c0c0671",
   "metadata": {},
   "outputs": [
    {
     "name": "stdout",
     "output_type": "stream",
     "text": [
      "Enter a number: 15\n",
      "The first 4 numbers in the sequence of 15 Fibonacci numbers are: [0, 1, 1, 2]\n"
     ]
    }
   ],
   "source": [
    "def Fibonacci_Sequence(n):\n",
    "    fib_sequence = [0, 1] # Initialize the sequence with the first two Fibonacci numbers\n",
    "\n",
    "    for i in range(2, n):\n",
    "        next_num = fib_sequence[i-1] + fib_sequence[i-2] # Calculate the next Fibonacci number\n",
    "        fib_sequence.append(next_num) # Add the next number to the sequence\n",
    "\n",
    "    return fib_sequence\n",
    "\n",
    "#Get user input for the number of Fibonacci numbers to generate\n",
    "Fib_num_to_generate = int(input(\"Enter a number: \"))\n",
    "\n",
    "# Generate the Fibonacci sequence with the specified total numbers\n",
    "fib_generated = Fibonacci_Sequence(Fib_num_to_generate)\n",
    "\n",
    "# Extract the first 4 numbers from the sequence. You can extract any number you want.\n",
    "first_four_numbers = fib_generated[:4]\n",
    "\n",
    "# Print the first 4 numbers\n",
    "print(f\"The first 4 numbers in the sequence of {Fib_num_to_generate} Fibonacci numbers are: {first_four_numbers}\")"
   ]
  },
  {
   "cell_type": "code",
   "execution_count": null,
   "id": "1bf8b1a8",
   "metadata": {},
   "outputs": [],
   "source": []
  }
 ],
 "metadata": {
  "kernelspec": {
   "display_name": "Python 3 (ipykernel)",
   "language": "python",
   "name": "python3"
  },
  "language_info": {
   "codemirror_mode": {
    "name": "ipython",
    "version": 3
   },
   "file_extension": ".py",
   "mimetype": "text/x-python",
   "name": "python",
   "nbconvert_exporter": "python",
   "pygments_lexer": "ipython3",
   "version": "3.11.5"
  }
 },
 "nbformat": 4,
 "nbformat_minor": 5
}
