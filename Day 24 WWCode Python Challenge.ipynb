{
 "cells": [
  {
   "cell_type": "markdown",
   "id": "d01f8f2d",
   "metadata": {},
   "source": [
    "# Women Who Code Python Challenge"
   ]
  },
  {
   "cell_type": "markdown",
   "id": "360911b0",
   "metadata": {},
   "source": [
    "**Day 24: Write a program to remove vowels from a given string.**"
   ]
  },
  {
   "cell_type": "code",
   "execution_count": 1,
   "id": "a7657146",
   "metadata": {},
   "outputs": [
    {
     "name": "stdout",
     "output_type": "stream",
     "text": [
      "Enter a string that contain vowels: She started coding few weeks ago\n",
      "Original string input: She started coding few weeks ago\n",
      "String input without vowels:  Sh strtd cdng fw wks g\n"
     ]
    }
   ],
   "source": [
    "def remove_vowels(string):\n",
    "    \n",
    "    vowels = \"AEIOUaeiou\"\n",
    "    var = \" \"\n",
    "    \n",
    "    for word in string:\n",
    "        if word not in vowels:\n",
    "            var += word\n",
    "    return var\n",
    "\n",
    "# Example\n",
    "string_input = input(\"Enter a string that contain vowels: \")\n",
    "vowels_removal = remove_vowels(string_input)\n",
    "\n",
    "print(f\"Original string input:\", string_input)\n",
    "print(f\"String input without vowels:\", vowels_removal)"
   ]
  },
  {
   "cell_type": "code",
   "execution_count": null,
   "id": "88f80b5d",
   "metadata": {},
   "outputs": [],
   "source": []
  }
 ],
 "metadata": {
  "kernelspec": {
   "display_name": "Python 3 (ipykernel)",
   "language": "python",
   "name": "python3"
  },
  "language_info": {
   "codemirror_mode": {
    "name": "ipython",
    "version": 3
   },
   "file_extension": ".py",
   "mimetype": "text/x-python",
   "name": "python",
   "nbconvert_exporter": "python",
   "pygments_lexer": "ipython3",
   "version": "3.11.5"
  }
 },
 "nbformat": 4,
 "nbformat_minor": 5
}
