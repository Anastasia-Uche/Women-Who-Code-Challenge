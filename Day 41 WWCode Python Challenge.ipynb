{
 "cells": [
  {
   "cell_type": "markdown",
   "id": "4f3e26a7",
   "metadata": {},
   "source": [
    "### Women Who Code Python Challenge"
   ]
  },
  {
   "cell_type": "markdown",
   "id": "792dc6b8",
   "metadata": {},
   "source": [
    "**Day 41: Write a program that uses recursion to generate all permutations of a list.**"
   ]
  },
  {
   "cell_type": "code",
   "execution_count": 1,
   "id": "de0e9c01",
   "metadata": {},
   "outputs": [
    {
     "name": "stdout",
     "output_type": "stream",
     "text": [
      "[1, 2, 3]\n",
      "[1, 3, 2]\n",
      "[2, 1, 3]\n",
      "[2, 3, 1]\n",
      "[3, 1, 2]\n",
      "[3, 2, 1]\n"
     ]
    }
   ],
   "source": [
    "def recursion_generated_permutation(lst):\n",
    "    \n",
    "    if len(lst) == 1:\n",
    "        return [lst]\n",
    "\n",
    "    permutations = []\n",
    "    for i in range(len(lst)):\n",
    "        first_element = lst[i]\n",
    "        remaining_elements = lst[:i] + lst[i+1:]\n",
    "        permutations_of_remainder = recursion_generated_permutation(remaining_elements)\n",
    "\n",
    "        for permutation in permutations_of_remainder:\n",
    "            permutations.append([first_element] + permutation)\n",
    "\n",
    "    return permutations\n",
    "\n",
    "# Example\n",
    "My_list = [1, 2, 3]\n",
    "permutations = recursion_generated_permutation(My_list)\n",
    "for permutation in permutations:\n",
    "    print(permutation)"
   ]
  },
  {
   "cell_type": "code",
   "execution_count": null,
   "id": "b35573e7",
   "metadata": {},
   "outputs": [],
   "source": []
  }
 ],
 "metadata": {
  "kernelspec": {
   "display_name": "Python 3 (ipykernel)",
   "language": "python",
   "name": "python3"
  },
  "language_info": {
   "codemirror_mode": {
    "name": "ipython",
    "version": 3
   },
   "file_extension": ".py",
   "mimetype": "text/x-python",
   "name": "python",
   "nbconvert_exporter": "python",
   "pygments_lexer": "ipython3",
   "version": "3.11.5"
  }
 },
 "nbformat": 4,
 "nbformat_minor": 5
}
