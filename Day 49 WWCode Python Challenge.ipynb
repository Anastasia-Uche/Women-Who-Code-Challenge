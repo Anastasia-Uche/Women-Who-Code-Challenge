{
 "cells": [
  {
   "cell_type": "markdown",
   "id": "d24bdf91",
   "metadata": {},
   "source": [
    "### Women Who Code Python Challenge"
   ]
  },
  {
   "cell_type": "markdown",
   "id": "f4ae2dbf",
   "metadata": {},
   "source": [
    "**Day 49: Create a program that implements the bubble sort algorithm.**"
   ]
  },
  {
   "cell_type": "code",
   "execution_count": 1,
   "id": "f0b20c3d",
   "metadata": {},
   "outputs": [
    {
     "name": "stdout",
     "output_type": "stream",
     "text": [
      "Original array: [55, 34, 60, 122, 23, 11, 90]\n",
      "Sorted array: [11, 23, 34, 55, 60, 90, 122]\n"
     ]
    }
   ],
   "source": [
    "def bubble_sort(algorithm):\n",
    "    n = len(algorithm)\n",
    "    for i in range(n):\n",
    "        # Flag to check if any swaps were made in this pass\n",
    "        swapped = False\n",
    "        \n",
    "        # Last i elements are already in place, so no need to check them\n",
    "        for j in range(0, n-i-1):\n",
    "            # Swap if the element found is greater than the next element\n",
    "            if algorithm[j] > algorithm[j+1]:\n",
    "                algorithm[j], algorithm[j+1] = algorithm[j+1], algorithm[j]\n",
    "                swapped = True\n",
    "        \n",
    "        # If no two elements were swapped in the inner loop, the array is already sorted\n",
    "        if not swapped:\n",
    "            break\n",
    "\n",
    "\n",
    "            \n",
    "# Example:   \n",
    "algorithm = [55, 34, 60, 122, 23, 11, 90]\n",
    "print(\"Original array:\", algorithm)\n",
    "    \n",
    "bubble_sort(algorithm)\n",
    "    \n",
    "print(\"Sorted array:\", algorithm)"
   ]
  },
  {
   "cell_type": "code",
   "execution_count": null,
   "id": "6b8d1dae",
   "metadata": {},
   "outputs": [],
   "source": []
  }
 ],
 "metadata": {
  "kernelspec": {
   "display_name": "Python 3 (ipykernel)",
   "language": "python",
   "name": "python3"
  },
  "language_info": {
   "codemirror_mode": {
    "name": "ipython",
    "version": 3
   },
   "file_extension": ".py",
   "mimetype": "text/x-python",
   "name": "python",
   "nbconvert_exporter": "python",
   "pygments_lexer": "ipython3",
   "version": "3.11.5"
  }
 },
 "nbformat": 4,
 "nbformat_minor": 5
}
