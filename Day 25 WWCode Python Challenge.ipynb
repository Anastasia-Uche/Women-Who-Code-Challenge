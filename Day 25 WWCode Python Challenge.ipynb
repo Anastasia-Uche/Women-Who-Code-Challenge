{
 "cells": [
  {
   "cell_type": "markdown",
   "id": "71335428",
   "metadata": {},
   "source": [
    "# Women Who Code Python Challenge"
   ]
  },
  {
   "cell_type": "markdown",
   "id": "a530d844",
   "metadata": {},
   "source": [
    "**Day 25: Create a program to concatenate two lists.**"
   ]
  },
  {
   "cell_type": "code",
   "execution_count": 1,
   "id": "533f58c0",
   "metadata": {},
   "outputs": [
    {
     "name": "stdout",
     "output_type": "stream",
     "text": [
      "[32, 20, 'Farm', 'Challenge', 'People', 12, 45, 60]\n"
     ]
    }
   ],
   "source": [
    "# Without parameter\n",
    "\n",
    "def list_concatenation():\n",
    "    list_1 = [32, 20, 'Farm', 'Challenge']\n",
    "    list_2 = ['People', 12, 45, 60]\n",
    "    \n",
    "    concatenated_list = list_1 + list_2\n",
    "    \n",
    "    return concatenated_list\n",
    "\n",
    "# Example:\n",
    "My_list = list_concatenation()\n",
    "print(My_list)"
   ]
  },
  {
   "cell_type": "code",
   "execution_count": 2,
   "id": "c486dea9",
   "metadata": {},
   "outputs": [
    {
     "name": "stdout",
     "output_type": "stream",
     "text": [
      "[32, 20, 'Farm', 'Challenge', 'People', 12, 45, 60]\n"
     ]
    }
   ],
   "source": [
    "# With parameter\n",
    "\n",
    "def list_concatenation(list_1, list_2):\n",
    "    concatenated_list = list_1 + list_2\n",
    "    return concatenated_list\n",
    "\n",
    "# Example:\n",
    "list_1 = [32, 20, 'Farm', 'Challenge']\n",
    "list_2 = ['People', 12, 45, 60]\n",
    "\n",
    "\n",
    "My_list = list_concatenation(list_1, list_2)\n",
    "print(My_list)"
   ]
  },
  {
   "cell_type": "code",
   "execution_count": null,
   "id": "935d330a",
   "metadata": {},
   "outputs": [],
   "source": []
  }
 ],
 "metadata": {
  "kernelspec": {
   "display_name": "Python 3 (ipykernel)",
   "language": "python",
   "name": "python3"
  },
  "language_info": {
   "codemirror_mode": {
    "name": "ipython",
    "version": 3
   },
   "file_extension": ".py",
   "mimetype": "text/x-python",
   "name": "python",
   "nbconvert_exporter": "python",
   "pygments_lexer": "ipython3",
   "version": "3.11.5"
  }
 },
 "nbformat": 4,
 "nbformat_minor": 5
}
