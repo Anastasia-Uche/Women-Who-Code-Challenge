{
 "cells": [
  {
   "cell_type": "markdown",
   "id": "6a7a670a",
   "metadata": {},
   "source": [
    "# Women Who Code Python Challenge"
   ]
  },
  {
   "cell_type": "markdown",
   "id": "cff38b97",
   "metadata": {},
   "source": [
    "**Day 13: Write a program to shuffle the elements of a list randomly.**"
   ]
  },
  {
   "cell_type": "code",
   "execution_count": 2,
   "id": "007ecb55",
   "metadata": {},
   "outputs": [
    {
     "name": "stdout",
     "output_type": "stream",
     "text": [
      "Original List: [8, 6, 13, 54, 25]\n",
      "Shuffled List: [54, 8, 13, 25, 6]\n"
     ]
    }
   ],
   "source": [
    "import random\n",
    "\n",
    "def shuffle_list(lst):\n",
    "    random.shuffle(lst) # Use random.shuffle to shuffle the list in-place\n",
    "\n",
    "\n",
    "# Example:\n",
    "My_list = [8, 6, 13, 54, 25]\n",
    "print(\"Original List:\", My_list)\n",
    "\n",
    "shuffle_list(My_list)\n",
    "print(\"Shuffled List:\", My_list)"
   ]
  },
  {
   "cell_type": "code",
   "execution_count": null,
   "id": "86077629",
   "metadata": {},
   "outputs": [],
   "source": []
  }
 ],
 "metadata": {
  "kernelspec": {
   "display_name": "Python 3 (ipykernel)",
   "language": "python",
   "name": "python3"
  },
  "language_info": {
   "codemirror_mode": {
    "name": "ipython",
    "version": 3
   },
   "file_extension": ".py",
   "mimetype": "text/x-python",
   "name": "python",
   "nbconvert_exporter": "python",
   "pygments_lexer": "ipython3",
   "version": "3.11.5"
  }
 },
 "nbformat": 4,
 "nbformat_minor": 5
}
