{
 "cells": [
  {
   "cell_type": "markdown",
   "id": "a2545ee9",
   "metadata": {},
   "source": [
    "# Women Who Code Python Challenge"
   ]
  },
  {
   "cell_type": "markdown",
   "id": "2082a411",
   "metadata": {},
   "source": [
    "**Day 22: Write a program to find the second-largest element in a list.**"
   ]
  },
  {
   "cell_type": "code",
   "execution_count": 1,
   "id": "3b4b2b0b",
   "metadata": {},
   "outputs": [
    {
     "name": "stdout",
     "output_type": "stream",
     "text": [
      "The second largest element in your list is 30\n"
     ]
    }
   ],
   "source": [
    "def second_largest_num(lst):\n",
    "    \n",
    "    largest = second_largest = float('-inf')\n",
    "    \n",
    "    for elem in lst:\n",
    "        if elem > largest:\n",
    "            second_largest = largest\n",
    "            largest = elem\n",
    "        elif elem > second_largest and elem != largest:\n",
    "            second_largest = elem\n",
    "            \n",
    "    if second_largest == float('-inf'):\n",
    "        return \"No second largest element found\"\n",
    "    else:\n",
    "        return second_largest\n",
    "            \n",
    "# Example:\n",
    "\n",
    "My_list = [30, 45, 20, 10, 1]\n",
    "Second_largest_element = second_largest_num(My_list)\n",
    "print(f\"The second largest element in your list is\", Second_largest_element)"
   ]
  },
  {
   "cell_type": "code",
   "execution_count": null,
   "id": "3457cc4e",
   "metadata": {},
   "outputs": [],
   "source": []
  }
 ],
 "metadata": {
  "kernelspec": {
   "display_name": "Python 3 (ipykernel)",
   "language": "python",
   "name": "python3"
  },
  "language_info": {
   "codemirror_mode": {
    "name": "ipython",
    "version": 3
   },
   "file_extension": ".py",
   "mimetype": "text/x-python",
   "name": "python",
   "nbconvert_exporter": "python",
   "pygments_lexer": "ipython3",
   "version": "3.11.5"
  }
 },
 "nbformat": 4,
 "nbformat_minor": 5
}
