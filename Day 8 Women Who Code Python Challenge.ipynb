{
 "cells": [
  {
   "cell_type": "markdown",
   "id": "af8644aa",
   "metadata": {},
   "source": [
    "# Women Who Code Python Challenge"
   ]
  },
  {
   "cell_type": "markdown",
   "id": "f2c9bffb",
   "metadata": {},
   "source": [
    "Day 8: Write a function that accepts a string and calculates the number of uppercase and lowercase letters in it."
   ]
  },
  {
   "cell_type": "code",
   "execution_count": 1,
   "id": "139622a0",
   "metadata": {},
   "outputs": [
    {
     "name": "stdout",
     "output_type": "stream",
     "text": [
      "Input string: Welcome To Women Who Code Python Challenge\n",
      "Lowercase: 29\n",
      "Uppercase: 7\n"
     ]
    }
   ],
   "source": [
    "def lower_upper_count(string):\n",
    "    \n",
    "    Lowercase_count = 0 # Here, i initialized counter for both uppercase and lowercase\n",
    "    Uppercase_count = 0\n",
    "    \n",
    "    for s in string:   # Here, i iterated through both cases to check the characters\n",
    "        if s.islower():\n",
    "            Lowercase_count += 1\n",
    "        elif s.isupper():\n",
    "            Uppercase_count += 1\n",
    "            \n",
    "    return Lowercase_count, Uppercase_count\n",
    "             \n",
    "# Example:\n",
    "\n",
    "#user_input = \"Welcome To Women Who Code Python Challenge\" # The input can be gotten using this method. or the below method \n",
    "user_input = input(\"Input string: \")\n",
    "string_count = lower_upper_count(user_input)\n",
    "\n",
    "# print(string_count) # You can print the string_count using this method\n",
    "\n",
    "print(\"Lowercase:\", string_count[0]) # Also, you can print the string_count using this method\n",
    "print(\"Uppercase:\", string_count[1])"
   ]
  },
  {
   "cell_type": "code",
   "execution_count": null,
   "id": "ef95091b",
   "metadata": {},
   "outputs": [],
   "source": []
  }
 ],
 "metadata": {
  "kernelspec": {
   "display_name": "Python 3 (ipykernel)",
   "language": "python",
   "name": "python3"
  },
  "language_info": {
   "codemirror_mode": {
    "name": "ipython",
    "version": 3
   },
   "file_extension": ".py",
   "mimetype": "text/x-python",
   "name": "python",
   "nbconvert_exporter": "python",
   "pygments_lexer": "ipython3",
   "version": "3.11.5"
  }
 },
 "nbformat": 4,
 "nbformat_minor": 5
}
