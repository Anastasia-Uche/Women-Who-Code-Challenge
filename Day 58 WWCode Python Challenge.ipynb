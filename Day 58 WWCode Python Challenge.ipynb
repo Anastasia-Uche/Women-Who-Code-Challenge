{
 "cells": [
  {
   "cell_type": "markdown",
   "id": "f491ea42",
   "metadata": {},
   "source": [
    "### Women Who Code Python Challenge"
   ]
  },
  {
   "cell_type": "markdown",
   "id": "a7b07e38",
   "metadata": {},
   "source": [
    "**Day 58: Create a function that converts a string to an integer and handles ValueError.**"
   ]
  },
  {
   "cell_type": "code",
   "execution_count": 1,
   "id": "0080e515",
   "metadata": {},
   "outputs": [
    {
     "name": "stdout",
     "output_type": "stream",
     "text": [
      "Enter a string for conversion: 20\n",
      "The output is an integer.\n"
     ]
    }
   ],
   "source": [
    "def convert_string_to_integer():\n",
    "    \n",
    "    string_input = input(\"Enter a string for conversion: \")\n",
    "    \n",
    "    while True:\n",
    "        try:\n",
    "            integer_value = int(string_input)\n",
    "            return integer_value\n",
    "        except ValueError:\n",
    "            print(\"Invalid Input! Input must be an integer\")\n",
    "            return None\n",
    "\n",
    "Converted_string = convert_string_to_integer()\n",
    "#print(\"Converted String\", Converted_string)\n",
    "if isinstance(Converted_string, int):\n",
    "    print(\"The output is an integer.\")"
   ]
  },
  {
   "cell_type": "code",
   "execution_count": null,
   "id": "cfe3de2a",
   "metadata": {},
   "outputs": [],
   "source": []
  }
 ],
 "metadata": {
  "kernelspec": {
   "display_name": "Python 3 (ipykernel)",
   "language": "python",
   "name": "python3"
  },
  "language_info": {
   "codemirror_mode": {
    "name": "ipython",
    "version": 3
   },
   "file_extension": ".py",
   "mimetype": "text/x-python",
   "name": "python",
   "nbconvert_exporter": "python",
   "pygments_lexer": "ipython3",
   "version": "3.11.5"
  }
 },
 "nbformat": 4,
 "nbformat_minor": 5
}
