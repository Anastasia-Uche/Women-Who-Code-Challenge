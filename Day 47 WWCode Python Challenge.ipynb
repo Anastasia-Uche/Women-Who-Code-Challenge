{
 "cells": [
  {
   "cell_type": "markdown",
   "id": "04fb356d",
   "metadata": {},
   "source": [
    "### Women Who Code Python Challenge"
   ]
  },
  {
   "cell_type": "markdown",
   "id": "72a45a46",
   "metadata": {},
   "source": [
    "**Day 47: Create a program that imports the math module and uses its functions.**"
   ]
  },
  {
   "cell_type": "code",
   "execution_count": 1,
   "id": "c2d9c43c",
   "metadata": {},
   "outputs": [
    {
     "name": "stdout",
     "output_type": "stream",
     "text": [
      "Enter a number for square root calculation: 25\n",
      "The square root of 25 is 5.0\n",
      "Enter a number for factorial calculation: 6\n",
      "The factorial of 6 is 720\n",
      "The value of pi is approximately 3.141592653589793\n",
      "The sine of 90 degrees is 1.0\n",
      "The cosine of 90 degrees is 6.123233995736766e-17\n",
      "Logarithm base 10 of 100: 2.0\n"
     ]
    }
   ],
   "source": [
    "import math\n",
    "\n",
    "def calculate_maths_functions():\n",
    "    # Calculate the square root of a number\n",
    "    num = int(input(\"Enter a number for square root calculation: \"))\n",
    "    sqrt_num = math.sqrt(num)\n",
    "    print(f\"The square root of {num} is {sqrt_num}\")\n",
    "\n",
    "    # Calculate the factorial of a number\n",
    "    factorial_num = int(input(\"Enter a number for factorial calculation: \"))\n",
    "    factorial_result = math.factorial(factorial_num)\n",
    "    print(f\"The factorial of {factorial_num} is {factorial_result}\")\n",
    "\n",
    "    # Calculate the value of pi\n",
    "    pi_value = math.pi\n",
    "    print(f\"The value of pi is approximately {pi_value}\")\n",
    "\n",
    "    # Calculate the sine of an angle in radians\n",
    "    angle_radians = math.radians(90)  # Convert degrees to radians\n",
    "    sine_value = math.sin(angle_radians)\n",
    "    print(f\"The sine of 90 degrees is {sine_value}\")\n",
    "\n",
    "    # Calculate the cosine of an angle in radians\n",
    "    cosine_value = math.cos(angle_radians)\n",
    "    print(f\"The cosine of 90 degrees is {cosine_value}\")\n",
    "    \n",
    "    # Calculate the logarithm base 10 of 100\n",
    "    logarithm = math.log10(100)\n",
    "    print(\"Logarithm base 10 of 100:\", logarithm)\n",
    "\n",
    "\n",
    "# Call function:\n",
    "calculate_maths_functions()"
   ]
  },
  {
   "cell_type": "code",
   "execution_count": null,
   "id": "5cac441c",
   "metadata": {},
   "outputs": [],
   "source": []
  }
 ],
 "metadata": {
  "kernelspec": {
   "display_name": "Python 3 (ipykernel)",
   "language": "python",
   "name": "python3"
  },
  "language_info": {
   "codemirror_mode": {
    "name": "ipython",
    "version": 3
   },
   "file_extension": ".py",
   "mimetype": "text/x-python",
   "name": "python",
   "nbconvert_exporter": "python",
   "pygments_lexer": "ipython3",
   "version": "3.11.5"
  }
 },
 "nbformat": 4,
 "nbformat_minor": 5
}
