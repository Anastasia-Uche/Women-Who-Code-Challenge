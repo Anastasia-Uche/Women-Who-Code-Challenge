{
 "cells": [
  {
   "cell_type": "markdown",
   "id": "3c6021b6",
   "metadata": {},
   "source": [
    "# Women Who Code Python Challenge"
   ]
  },
  {
   "cell_type": "markdown",
   "id": "72e61736",
   "metadata": {},
   "source": [
    "**Day 17: Write a program that capitalizes the first letter of each word in a sentence.**"
   ]
  },
  {
   "cell_type": "code",
   "execution_count": 1,
   "id": "12f9bf20",
   "metadata": {},
   "outputs": [
    {
     "name": "stdout",
     "output_type": "stream",
     "text": [
      "Enter a sentence for word capitalization: she started learning python two weeks ago.\n",
      "She Started Learning Python Two Weeks Ago.\n"
     ]
    }
   ],
   "source": [
    "def word_capitalization(sentence):\n",
    "    \n",
    "    words = sentence.split()\n",
    "    capitalized_words = []\n",
    "    \n",
    "    for word in words:\n",
    "        capitalized_word = word.capitalize()\n",
    "        capitalized_words.append(capitalized_word)\n",
    "        \n",
    "    capitalized_sentence = \" \".join(capitalized_words)\n",
    "    \n",
    "    return capitalized_sentence\n",
    "\n",
    "sentence_input = input(\"Enter a sentence for word capitalization: \")\n",
    "sentence_capitalization = word_capitalization(sentence_input)\n",
    "\n",
    "print(sentence_capitalization)"
   ]
  },
  {
   "cell_type": "code",
   "execution_count": null,
   "id": "f8df22c3",
   "metadata": {},
   "outputs": [],
   "source": []
  }
 ],
 "metadata": {
  "kernelspec": {
   "display_name": "Python 3 (ipykernel)",
   "language": "python",
   "name": "python3"
  },
  "language_info": {
   "codemirror_mode": {
    "name": "ipython",
    "version": 3
   },
   "file_extension": ".py",
   "mimetype": "text/x-python",
   "name": "python",
   "nbconvert_exporter": "python",
   "pygments_lexer": "ipython3",
   "version": "3.11.5"
  }
 },
 "nbformat": 4,
 "nbformat_minor": 5
}
