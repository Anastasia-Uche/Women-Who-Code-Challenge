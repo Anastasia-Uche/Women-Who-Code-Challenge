{
 "cells": [
  {
   "cell_type": "markdown",
   "id": "79c146e9",
   "metadata": {},
   "source": [
    "# Women Who Code Python Challenge"
   ]
  },
  {
   "cell_type": "markdown",
   "id": "b0544a66",
   "metadata": {},
   "source": [
    "**Day 18: Create a program to find the largest among three numbers.**"
   ]
  },
  {
   "cell_type": "code",
   "execution_count": 2,
   "id": "37049275",
   "metadata": {},
   "outputs": [
    {
     "name": "stdout",
     "output_type": "stream",
     "text": [
      "Enter a number: 2000\n",
      "Enter a number: 1500\n",
      "Enter a number: 1000\n",
      "The largest number among 2000, 1500, and 1000 is 2000\n"
     ]
    }
   ],
   "source": [
    "def largest_number(num1, num2, num3):\n",
    "    \n",
    "    largest_num = max(num1, num2, num3)\n",
    "    return largest_num\n",
    "\n",
    "num1 = int(input(\"Enter a number: \"))\n",
    "num2 = int(input(\"Enter a number: \"))\n",
    "num3 = int(input(\"Enter a number: \"))\n",
    "\n",
    "Maximum_num = largest_number(num1, num2, num3)\n",
    "print(f\"The largest number among {num1}, {num2}, and {num3} is {Maximum_num}\")"
   ]
  },
  {
   "cell_type": "code",
   "execution_count": null,
   "id": "cd49f8a3",
   "metadata": {},
   "outputs": [],
   "source": []
  }
 ],
 "metadata": {
  "kernelspec": {
   "display_name": "Python 3 (ipykernel)",
   "language": "python",
   "name": "python3"
  },
  "language_info": {
   "codemirror_mode": {
    "name": "ipython",
    "version": 3
   },
   "file_extension": ".py",
   "mimetype": "text/x-python",
   "name": "python",
   "nbconvert_exporter": "python",
   "pygments_lexer": "ipython3",
   "version": "3.11.5"
  }
 },
 "nbformat": 4,
 "nbformat_minor": 5
}
