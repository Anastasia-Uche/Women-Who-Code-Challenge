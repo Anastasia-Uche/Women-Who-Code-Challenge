{
 "cells": [
  {
   "cell_type": "markdown",
   "id": "7ecbf98c",
   "metadata": {},
   "source": [
    "# Women Who Code Python Challenge"
   ]
  },
  {
   "cell_type": "markdown",
   "id": "60eb951d",
   "metadata": {},
   "source": [
    "**Day 10: Write a program to remove duplicates from a list.**"
   ]
  },
  {
   "cell_type": "code",
   "execution_count": 2,
   "id": "b0444f9b",
   "metadata": {},
   "outputs": [
    {
     "name": "stdout",
     "output_type": "stream",
     "text": [
      "Main List is: ['School', 'Family', 'Walk', 'Name', 'Father', 'School', 'Mother', 'Walk', 10, 4, 8, 10]\n",
      "List without duplicates is: ['School', 'Family', 'Walk', 'Name', 'Father', 'Mother', 10, 4, 8]\n"
     ]
    }
   ],
   "source": [
    "My_list = [\"School\", \"Family\", \"Walk\", \"Name\", \"Father\", \"School\", \"Mother\", \"Walk\", 10, 4, 8, 10]\n",
    "\n",
    "def remove_duplicates(My_list): # I defined my function using My_list as the parameter\n",
    "    New_list = [] # I initialized an empty list to store the unique elements\n",
    "    My_list_elements = [] # an empty list to keep track of encountered elements\n",
    "    \n",
    "    for item in My_list: # I iterated through each item in My_list\n",
    "        if item not in My_list_elements: # checked if the item is not in My_list_elements\n",
    "            New_list.append(item) # If it's not, append it to New_list.\n",
    "            My_list_elements.append(item) # Add it also to My_list_elements\n",
    "    return New_list  # Return the list New_list. That's the one with no duplicates\n",
    "\n",
    "Duplicates = remove_duplicates(My_list)\n",
    "print(\"Main List is:\", My_list)\n",
    "print(\"List without duplicates is:\", Duplicates)"
   ]
  },
  {
   "cell_type": "code",
   "execution_count": null,
   "id": "9c125584",
   "metadata": {},
   "outputs": [],
   "source": []
  }
 ],
 "metadata": {
  "kernelspec": {
   "display_name": "Python 3 (ipykernel)",
   "language": "python",
   "name": "python3"
  },
  "language_info": {
   "codemirror_mode": {
    "name": "ipython",
    "version": 3
   },
   "file_extension": ".py",
   "mimetype": "text/x-python",
   "name": "python",
   "nbconvert_exporter": "python",
   "pygments_lexer": "ipython3",
   "version": "3.11.5"
  }
 },
 "nbformat": 4,
 "nbformat_minor": 5
}
