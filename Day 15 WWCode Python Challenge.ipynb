{
 "cells": [
  {
   "cell_type": "markdown",
   "id": "45400e6d",
   "metadata": {},
   "source": [
    "# Women Who Code Python Challenge"
   ]
  },
  {
   "cell_type": "markdown",
   "id": "194e06cb",
   "metadata": {},
   "source": [
    "**Day 15: Create a program that checks if a year is a leap year.**\n",
    "\n",
    "A leap year is a year that is one day longer than a standard year, having 366 days instead of the usual 365 days. The extra day is added to the calendar in the form of February 29th. Leap years are introduced to keep the calendar year synchronized with the astronomical year, which is approximately 365.2422 days long.\n",
    "\n",
    "A year is considered leap if it is evenly divisible by 4, except for years that are divisible by 100. However, years divisible by 400 are leap years. "
   ]
  },
  {
   "cell_type": "code",
   "execution_count": 1,
   "id": "a9f4be79",
   "metadata": {},
   "outputs": [
    {
     "name": "stdout",
     "output_type": "stream",
     "text": [
      "Enter a year to check if it's a leap year: 2024\n",
      "2024 is a leap year.\n"
     ]
    }
   ],
   "source": [
    "def leap_year(year):\n",
    "    \n",
    "    if (year % 4 == 0 and year % 100 != 0) or (year % 400 == 0):\n",
    "        return True\n",
    "    else:\n",
    "        return False\n",
    "\n",
    "# Get user input for the year\n",
    "year = int(input(\"Enter a year to check if it's a leap year: \"))\n",
    "\n",
    "# Check if the entered year is a leap year\n",
    "if leap_year(year):\n",
    "    print(f\"{year} is a leap year.\")\n",
    "else:\n",
    "    print(f\"{year} is not a leap year.\")"
   ]
  },
  {
   "cell_type": "code",
   "execution_count": null,
   "id": "f60b3e77",
   "metadata": {},
   "outputs": [],
   "source": []
  }
 ],
 "metadata": {
  "kernelspec": {
   "display_name": "Python 3 (ipykernel)",
   "language": "python",
   "name": "python3"
  },
  "language_info": {
   "codemirror_mode": {
    "name": "ipython",
    "version": 3
   },
   "file_extension": ".py",
   "mimetype": "text/x-python",
   "name": "python",
   "nbconvert_exporter": "python",
   "pygments_lexer": "ipython3",
   "version": "3.11.5"
  }
 },
 "nbformat": 4,
 "nbformat_minor": 5
}
