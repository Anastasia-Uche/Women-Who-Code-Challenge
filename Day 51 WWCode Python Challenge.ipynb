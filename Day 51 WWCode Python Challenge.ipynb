{
 "cells": [
  {
   "cell_type": "markdown",
   "id": "dd2d4d8b",
   "metadata": {},
   "source": [
    "### Women Who Code Python Challenge"
   ]
  },
  {
   "cell_type": "markdown",
   "id": "9fccdfdf",
   "metadata": {},
   "source": [
    "**Day 51: Create a program that counts the occurrences of each word in a text file.**"
   ]
  },
  {
   "cell_type": "code",
   "execution_count": 1,
   "id": "244572d2",
   "metadata": {},
   "outputs": [
    {
     "name": "stdout",
     "output_type": "stream",
     "text": [
      "{'the': 12, 'whispering': 2, 'pages': 3, 'once': 1, 'upon': 2, 'a': 9, 'time,': 1, 'in': 4, 'quaint': 1, 'little': 1, 'village': 1, 'nestled': 1, 'between': 1, 'rolling': 1, 'hills': 1, 'and': 9, 'lush': 1, 'forests,': 1, 'there': 1, 'lived': 1, 'curious': 1, 'young': 1, 'girl': 1, 'named': 1, 'lily.': 1, 'with': 3, 'eyes': 1, 'as': 4, 'bright': 1, 'morning': 1, 'sun': 1, 'heart': 1, 'full': 1, 'of': 6, 'adventure,': 1, 'she': 2, 'spent': 1, 'her': 8, 'days': 1, 'exploring': 1, 'every': 1, 'nook': 1, 'cranny': 1, 'enchanting': 1, 'woods': 1, 'that': 4, 'bordered': 1, 'home.': 1, 'one': 1, 'crisp': 1, 'autumn': 1, 'afternoon,': 1, 'while': 1, 'chasing': 1, 'fluttering': 1, 'leaves': 1, 'danced': 1, 'breeze,': 1, 'lily': 3, 'stumbled': 1, 'hidden': 2, 'clearing': 1, 'bathed': 1, 'golden': 1, 'light.': 1, 'center': 1, 'stood': 1, 'majestic': 1, 'oak': 2, 'tree,': 1, 'its': 3, 'gnarled': 1, 'branches': 1, 'reaching': 1, 'skyward': 1, 'like': 1, 'ancient': 2, 'fingers.': 1, 'beneath': 1, 'sprawling': 1, 'canopy': 1, 'lay': 1, 'forgotten': 1, 'treasure\\x97a': 1, 'weathered': 1, 'leather-bound': 1, 'book,': 1, 'secrets': 1, 'distant': 1, 'lands': 1, 'magical': 2, 'wonders.': 1, 'eagerly,': 1, 'opened': 1, 'book': 2, 'was': 1, 'whisked': 1, 'away': 1, 'on': 2, 'journey': 1, 'beyond': 2, 'wildest': 1, 'dreams.': 1, 'met': 1, 'fantastical': 1, 'creatures,': 1, 'discovered': 1, 'realms,': 1, 'learned': 1, 'true': 1, 'power': 1, 'imagination.': 1, 'each': 1, 'page': 1, 'turned,': 1, 'world': 1, 'expanded,': 1, 'spirit': 1, 'soared.': 1, 'so,': 1, 'steadfast': 1, 'companion': 1, 'guide,': 1, 'embarked': 1, 'an': 1, 'adventure': 1, 'would': 1, 'forever': 1, 'change': 1, 'course': 1, 'destiny,': 1, 'proving': 1, 'sometimes': 1, 'greatest': 1, 'adventures': 1, 'lie': 1, 'just': 1, 'book.': 1}\n"
     ]
    }
   ],
   "source": [
    "def count_word_occurrences(file_path):\n",
    "    word_counts = {}\n",
    "    with open(file_path, 'r', encoding='latin-1') as file:\n",
    "        for line in file:\n",
    "            words = line.strip().split()\n",
    "            for word in words:\n",
    "                word = word.lower()  # Convert to lowercase to treat words case-insensitively\n",
    "                word_counts[word] = word_counts.get(word, 0) + 1\n",
    "    return word_counts\n",
    "\n",
    "# Example:\n",
    "file_path = 'C:\\\\Users\\\\ANASTASIA\\\\Desktop\\\\The Whispering Pages.txt'\n",
    "word_occurrences = count_word_occurrences(file_path)\n",
    "print(word_occurrences)"
   ]
  },
  {
   "cell_type": "code",
   "execution_count": null,
   "id": "d4c5867f",
   "metadata": {},
   "outputs": [],
   "source": []
  }
 ],
 "metadata": {
  "kernelspec": {
   "display_name": "Python 3 (ipykernel)",
   "language": "python",
   "name": "python3"
  },
  "language_info": {
   "codemirror_mode": {
    "name": "ipython",
    "version": 3
   },
   "file_extension": ".py",
   "mimetype": "text/x-python",
   "name": "python",
   "nbconvert_exporter": "python",
   "pygments_lexer": "ipython3",
   "version": "3.11.5"
  }
 },
 "nbformat": 4,
 "nbformat_minor": 5
}
