{
 "cells": [
  {
   "cell_type": "markdown",
   "id": "42eee2c9",
   "metadata": {},
   "source": [
    "### Women Who Code Python Challenge"
   ]
  },
  {
   "cell_type": "markdown",
   "id": "5014627e",
   "metadata": {},
   "source": [
    "**Day 52: Create a program that checks if a string is a palindrome.**"
   ]
  },
  {
   "cell_type": "code",
   "execution_count": 1,
   "id": "58e093d8",
   "metadata": {},
   "outputs": [
    {
     "name": "stdout",
     "output_type": "stream",
     "text": [
      "Enter a string: Never odd or even\n",
      "The string is a palindrome\n"
     ]
    }
   ],
   "source": [
    "def is_palindrome(string):\n",
    "    \n",
    "    string = string.replace(\" \", \"\"). lower()\n",
    "    return string == string[::-1]\n",
    "\n",
    "\n",
    "# Example:\n",
    "string_input = input(\"Enter a string: \")\n",
    "if is_palindrome(string_input):\n",
    "    print(\"The string is a palindrome\")\n",
    "else:\n",
    "    print(\"The string is not a palindrome\")"
   ]
  },
  {
   "cell_type": "code",
   "execution_count": null,
   "id": "8eba15fa",
   "metadata": {},
   "outputs": [],
   "source": []
  }
 ],
 "metadata": {
  "kernelspec": {
   "display_name": "Python 3 (ipykernel)",
   "language": "python",
   "name": "python3"
  },
  "language_info": {
   "codemirror_mode": {
    "name": "ipython",
    "version": 3
   },
   "file_extension": ".py",
   "mimetype": "text/x-python",
   "name": "python",
   "nbconvert_exporter": "python",
   "pygments_lexer": "ipython3",
   "version": "3.11.5"
  }
 },
 "nbformat": 4,
 "nbformat_minor": 5
}
