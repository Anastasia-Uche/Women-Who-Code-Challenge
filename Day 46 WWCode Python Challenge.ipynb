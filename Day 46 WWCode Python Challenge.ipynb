{
 "cells": [
  {
   "cell_type": "markdown",
   "id": "7318cf01",
   "metadata": {},
   "source": [
    "### Women Who Code Python Challenge"
   ]
  },
  {
   "cell_type": "markdown",
   "id": "a506a09a",
   "metadata": {},
   "source": [
    "**Day 46: Write a function to check if a given list is sorted.**"
   ]
  },
  {
   "cell_type": "code",
   "execution_count": 1,
   "id": "e63552c3",
   "metadata": {},
   "outputs": [
    {
     "name": "stdout",
     "output_type": "stream",
     "text": [
      "True\n"
     ]
    }
   ],
   "source": [
    "def check_for_sorted(lst):\n",
    "    \n",
    "    if len(lst) < 2:\n",
    "        return False\n",
    "    \n",
    "    for i in range(len(lst) - 1):\n",
    "        if lst[i] > lst[i + 1]:\n",
    "            return False\n",
    "    return True\n",
    "\n",
    "# Example:\n",
    "My_list = [2, 4, 5, 7, 8, 12]\n",
    "Sorted_list = check_for_sorted(My_list)\n",
    "print(Sorted_list)"
   ]
  },
  {
   "cell_type": "code",
   "execution_count": null,
   "id": "bf2a26ab",
   "metadata": {},
   "outputs": [],
   "source": []
  }
 ],
 "metadata": {
  "kernelspec": {
   "display_name": "Python 3 (ipykernel)",
   "language": "python",
   "name": "python3"
  },
  "language_info": {
   "codemirror_mode": {
    "name": "ipython",
    "version": 3
   },
   "file_extension": ".py",
   "mimetype": "text/x-python",
   "name": "python",
   "nbconvert_exporter": "python",
   "pygments_lexer": "ipython3",
   "version": "3.11.5"
  }
 },
 "nbformat": 4,
 "nbformat_minor": 5
}
