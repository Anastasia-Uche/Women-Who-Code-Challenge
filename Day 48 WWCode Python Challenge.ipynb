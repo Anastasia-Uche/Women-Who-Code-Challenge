{
 "cells": [
  {
   "cell_type": "markdown",
   "id": "dfc9fa46",
   "metadata": {},
   "source": [
    "### Women Who Code Python Challenge"
   ]
  },
  {
   "cell_type": "markdown",
   "id": "7217e296",
   "metadata": {},
   "source": [
    "**Day 48: Create a program that replaces specific words in a text with their synonyms.**"
   ]
  },
  {
   "cell_type": "code",
   "execution_count": 1,
   "id": "3a55704a",
   "metadata": {},
   "outputs": [
    {
     "name": "stdout",
     "output_type": "stream",
     "text": [
      "Enter the text: Smart\n",
      "Enter the words to replace (comma-separated): smart, clever\n",
      "Replaced Text:\n",
      "intelligent\n"
     ]
    }
   ],
   "source": [
    "import random\n",
    "\n",
    "def get_synonyms(word):\n",
    "    synonyms = {\n",
    "        \"funny\": [\"Hilarious\", \"amusing\", \"comical\"],\n",
    "        \"smart\": [\"intelligent\", \"clever\", \"brilliant\"],\n",
    "        \"tired\": [\"exhausted\", \"fatigue\", \"weary\"]\n",
    "    }\n",
    "    return synonyms.get(word.lower(), [word])\n",
    "\n",
    "def replace_with_synonyms(text, words_to_replace):\n",
    "    words = text.split()\n",
    "    replaced_text = []\n",
    "    for word in words:\n",
    "        synonyms = get_synonyms(word)\n",
    "        if word.lower() in words_to_replace:\n",
    "            replaced_text.append(random.choice(synonyms))  # Choosing a random synonym\n",
    "        else:\n",
    "            replaced_text.append(word)\n",
    "    return ' '.join(replaced_text)\n",
    "\n",
    "\n",
    "# Example:\n",
    "text = input(\"Enter the text: \")\n",
    "words_to_replace = input(\"Enter the words to replace (comma-separated): \").split(',')\n",
    "replaced_text = replace_with_synonyms(text, words_to_replace)\n",
    "print(\"Replaced Text:\")\n",
    "print(replaced_text)"
   ]
  },
  {
   "cell_type": "code",
   "execution_count": null,
   "id": "a9c9fd1f",
   "metadata": {},
   "outputs": [],
   "source": []
  }
 ],
 "metadata": {
  "kernelspec": {
   "display_name": "Python 3 (ipykernel)",
   "language": "python",
   "name": "python3"
  },
  "language_info": {
   "codemirror_mode": {
    "name": "ipython",
    "version": 3
   },
   "file_extension": ".py",
   "mimetype": "text/x-python",
   "name": "python",
   "nbconvert_exporter": "python",
   "pygments_lexer": "ipython3",
   "version": "3.11.5"
  }
 },
 "nbformat": 4,
 "nbformat_minor": 5
}
