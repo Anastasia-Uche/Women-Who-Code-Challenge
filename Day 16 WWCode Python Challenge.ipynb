{
 "cells": [
  {
   "cell_type": "markdown",
   "id": "3054236f",
   "metadata": {},
   "source": [
    "# Women Who Code Python Challenge"
   ]
  },
  {
   "cell_type": "markdown",
   "id": "8c5f89ff",
   "metadata": {},
   "source": [
    "**Day 16: Write a function that counts the frequency of each word in a sentence.**"
   ]
  },
  {
   "cell_type": "code",
   "execution_count": 1,
   "id": "29ac1f28",
   "metadata": {},
   "outputs": [
    {
     "name": "stdout",
     "output_type": "stream",
     "text": [
      "Enter a sentence for frequency checking: She is very good at Python\n",
      "Word: she.\n",
      "Frequency: 1\n",
      "Word: is.\n",
      "Frequency: 1\n",
      "Word: very.\n",
      "Frequency: 1\n",
      "Word: good.\n",
      "Frequency: 1\n",
      "Word: at.\n",
      "Frequency: 1\n",
      "Word: python.\n",
      "Frequency: 1\n"
     ]
    }
   ],
   "source": [
    "def word_frequency_check(sentence):\n",
    "    \n",
    "    word_frequency = {} # I created an empty dictionary to store word frequencies\n",
    "    words = sentence.split() # split the sentence into words\n",
    "    \n",
    "    for word in words: # Iterate through each word and update the frequency in the dictionary\n",
    "        word = word.lower() # convert word to lower case\n",
    "        if word in word_frequency:\n",
    "            word_frequency[word] += 1 # If word in word_frequency, increment it.\n",
    "        else:\n",
    "            word_frequency[word] = 1 # If word not in word_frequency, add it with frequency of 1\n",
    "            \n",
    "    return word_frequency\n",
    "\n",
    "sentence = input(\"Enter a sentence for frequency checking: \")\n",
    "word_count = word_frequency_check(sentence)\n",
    "\n",
    "for word, frequency in word_count.items():\n",
    "    print(f\"Word: {word}.\\nFrequency: {frequency}\")"
   ]
  },
  {
   "cell_type": "code",
   "execution_count": null,
   "id": "b5703071",
   "metadata": {},
   "outputs": [],
   "source": []
  }
 ],
 "metadata": {
  "kernelspec": {
   "display_name": "Python 3 (ipykernel)",
   "language": "python",
   "name": "python3"
  },
  "language_info": {
   "codemirror_mode": {
    "name": "ipython",
    "version": 3
   },
   "file_extension": ".py",
   "mimetype": "text/x-python",
   "name": "python",
   "nbconvert_exporter": "python",
   "pygments_lexer": "ipython3",
   "version": "3.11.5"
  }
 },
 "nbformat": 4,
 "nbformat_minor": 5
}
