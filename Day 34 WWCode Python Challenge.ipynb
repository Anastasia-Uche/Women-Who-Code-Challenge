{
 "cells": [
  {
   "cell_type": "markdown",
   "id": "fb15d7a3",
   "metadata": {},
   "source": [
    "# Women Who Code Python Challenge"
   ]
  },
  {
   "cell_type": "markdown",
   "id": "37242155",
   "metadata": {},
   "source": [
    "**Day 34: Write a Python program to merge two dictionaries.**"
   ]
  },
  {
   "cell_type": "code",
   "execution_count": 1,
   "id": "759f5ef7",
   "metadata": {},
   "outputs": [
    {
     "name": "stdout",
     "output_type": "stream",
     "text": [
      "Merged Dictionaries: {'Nuclear': 'Extended', 'Mother': 'Father', 'Son': 'Daughter', 'Teacher': 'Student', 'Senior': 'Junior'}\n"
     ]
    }
   ],
   "source": [
    "def merge_dictionary(dict1, dict2):\n",
    "    \n",
    "    merge_dict = dict1.copy()\n",
    "    merge_dict.update(dict2)\n",
    "    \n",
    "    return merge_dict\n",
    "\n",
    "#Example:\n",
    "My_dict1 = {\"Nuclear\": \"Extended\", \"Mother\": \"Father\", \"Son\": \"Daughter\"}\n",
    "My_dict2 = {\"Teacher\": \"Student\", \"Senior\": \"Junior\"}\n",
    "    \n",
    "Merge = merge_dictionary(My_dict1, My_dict2)\n",
    "print(f\"Merged Dictionaries: {Merge}\")"
   ]
  },
  {
   "cell_type": "code",
   "execution_count": null,
   "id": "55fed86c",
   "metadata": {},
   "outputs": [],
   "source": []
  }
 ],
 "metadata": {
  "kernelspec": {
   "display_name": "Python 3 (ipykernel)",
   "language": "python",
   "name": "python3"
  },
  "language_info": {
   "codemirror_mode": {
    "name": "ipython",
    "version": 3
   },
   "file_extension": ".py",
   "mimetype": "text/x-python",
   "name": "python",
   "nbconvert_exporter": "python",
   "pygments_lexer": "ipython3",
   "version": "3.11.5"
  }
 },
 "nbformat": 4,
 "nbformat_minor": 5
}
