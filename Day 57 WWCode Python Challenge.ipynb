{
 "cells": [
  {
   "cell_type": "markdown",
   "id": "05739269",
   "metadata": {},
   "source": [
    "### Women Who Code Python Challenge"
   ]
  },
  {
   "cell_type": "markdown",
   "id": "f50a1573",
   "metadata": {},
   "source": [
    "**Day 57: Create a function that returns the key with the maximum value in a dictionary.**"
   ]
  },
  {
   "cell_type": "code",
   "execution_count": 1,
   "id": "0462cc0a",
   "metadata": {},
   "outputs": [
    {
     "data": {
      "text/plain": [
       "'Hospital'"
      ]
     },
     "execution_count": 1,
     "metadata": {},
     "output_type": "execute_result"
    }
   ],
   "source": [
    "def return_key_with_max_value(dictionary):\n",
    "    \n",
    "    \n",
    "    Max_value = max(Dictionary.values())\n",
    "    \n",
    "    for key, value in Dictionary.items():\n",
    "        if value == Max_value:\n",
    "            return key\n",
    "\n",
    "# Example:\n",
    "Dictionary = {\"House\": 12, \"School\": 10, \"Hospital\": 15, \"Church\": 2}\n",
    "return_key_with_max_value(Dictionary)"
   ]
  },
  {
   "cell_type": "code",
   "execution_count": null,
   "id": "8e92d321",
   "metadata": {},
   "outputs": [],
   "source": []
  }
 ],
 "metadata": {
  "kernelspec": {
   "display_name": "Python 3 (ipykernel)",
   "language": "python",
   "name": "python3"
  },
  "language_info": {
   "codemirror_mode": {
    "name": "ipython",
    "version": 3
   },
   "file_extension": ".py",
   "mimetype": "text/x-python",
   "name": "python",
   "nbconvert_exporter": "python",
   "pygments_lexer": "ipython3",
   "version": "3.11.5"
  }
 },
 "nbformat": 4,
 "nbformat_minor": 5
}
