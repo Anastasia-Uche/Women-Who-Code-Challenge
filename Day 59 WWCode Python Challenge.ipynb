{
 "cells": [
  {
   "cell_type": "markdown",
   "id": "f72166e5",
   "metadata": {},
   "source": [
    "### Women Who Code Python Challenge"
   ]
  },
  {
   "cell_type": "markdown",
   "id": "14ec75d7",
   "metadata": {},
   "source": [
    "**Day 59: Create a function that checks if a number is a perfect square.**"
   ]
  },
  {
   "cell_type": "code",
   "execution_count": 1,
   "id": "6493965b",
   "metadata": {},
   "outputs": [
    {
     "name": "stdout",
     "output_type": "stream",
     "text": [
      "Enter a number to check if it's a perfect square: 225\n",
      "Input number is a perfect square\n"
     ]
    }
   ],
   "source": [
    "import math\n",
    "\n",
    "def is_perfect_square(num):\n",
    "    \n",
    "    if num < 0:\n",
    "        return False\n",
    "    if num == 0 or num == 1:\n",
    "        return True\n",
    "    \n",
    "    num_sqrt = math.isqrt(num)\n",
    "    \n",
    "    if num_sqrt * num_sqrt == num:\n",
    "        return True\n",
    "    else:\n",
    "        return False\n",
    "    \n",
    "\n",
    "# Example:\n",
    "num_input = int(input(\"Enter a number to check if it's a perfect square: \"))\n",
    "if is_perfect_square(num_input):\n",
    "    print(\"Input number is a perfect square\")\n",
    "else:\n",
    "    print(\"Input number is not a perfect square\")"
   ]
  },
  {
   "cell_type": "code",
   "execution_count": null,
   "id": "73363c9d",
   "metadata": {},
   "outputs": [],
   "source": []
  }
 ],
 "metadata": {
  "kernelspec": {
   "display_name": "Python 3 (ipykernel)",
   "language": "python",
   "name": "python3"
  },
  "language_info": {
   "codemirror_mode": {
    "name": "ipython",
    "version": 3
   },
   "file_extension": ".py",
   "mimetype": "text/x-python",
   "name": "python",
   "nbconvert_exporter": "python",
   "pygments_lexer": "ipython3",
   "version": "3.11.5"
  }
 },
 "nbformat": 4,
 "nbformat_minor": 5
}
