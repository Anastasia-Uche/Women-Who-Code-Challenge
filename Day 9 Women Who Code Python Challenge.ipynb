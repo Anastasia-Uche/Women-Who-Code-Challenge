{
 "cells": [
  {
   "cell_type": "markdown",
   "id": "124abcb3",
   "metadata": {},
   "source": [
    "# Women Who Code Python Challenge"
   ]
  },
  {
   "cell_type": "markdown",
   "id": "6296a3b7",
   "metadata": {},
   "source": [
    "**Day 9: Write a program to check if a number is even or odd.**"
   ]
  },
  {
   "cell_type": "code",
   "execution_count": 1,
   "id": "d133f682",
   "metadata": {},
   "outputs": [
    {
     "name": "stdout",
     "output_type": "stream",
     "text": [
      "Enter a number to check if it's even or not: 550\n",
      "Even\n"
     ]
    }
   ],
   "source": [
    "def even_odd(number):\n",
    "    \n",
    "    try:\n",
    "        user_input = int(input(\"Enter a number to check if it's even or not: \"))\n",
    "        \n",
    "        if user_input % 2 == 0:\n",
    "            return \"Even\"\n",
    "        else:\n",
    "            return \"Odd\"\n",
    "    except ValueError:\n",
    "        print(\"Invalid Input!\")\n",
    "        \n",
    "user_number = even_odd(0)\n",
    "print(f\"{user_number} is an )"
   ]
  },
  {
   "cell_type": "code",
   "execution_count": null,
   "id": "bd7f9f6a",
   "metadata": {},
   "outputs": [],
   "source": []
  }
 ],
 "metadata": {
  "kernelspec": {
   "display_name": "Python 3 (ipykernel)",
   "language": "python",
   "name": "python3"
  },
  "language_info": {
   "codemirror_mode": {
    "name": "ipython",
    "version": 3
   },
   "file_extension": ".py",
   "mimetype": "text/x-python",
   "name": "python",
   "nbconvert_exporter": "python",
   "pygments_lexer": "ipython3",
   "version": "3.11.5"
  }
 },
 "nbformat": 4,
 "nbformat_minor": 5
}
