{
 "cells": [
  {
   "cell_type": "markdown",
   "id": "ba56c73c",
   "metadata": {},
   "source": [
    "# Women Who Code Python Challenge"
   ]
  },
  {
   "cell_type": "markdown",
   "id": "06fffee1",
   "metadata": {},
   "source": [
    "**Day 9: Write a program to check if a number is even or odd.**"
   ]
  },
  {
   "cell_type": "code",
   "execution_count": 1,
   "id": "92279b98",
   "metadata": {},
   "outputs": [
    {
     "name": "stdout",
     "output_type": "stream",
     "text": [
      "Enter a number to check if it's even or odd: 620\n",
      "Even\n"
     ]
    }
   ],
   "source": [
    "def even_odd(number):\n",
    "    \n",
    "    try:\n",
    "        user_input = int(input(\"Enter a number to check if it's even or odd: \"))\n",
    "        \n",
    "        if user_input % 2 == 0:\n",
    "            return \"Even\"\n",
    "        else:\n",
    "            return \"Odd\"\n",
    "    except ValueError:\n",
    "        print(\"Invalid Input!\")\n",
    "        \n",
    "user_number = even_odd(0)\n",
    "print(user_number)"
   ]
  },
  {
   "cell_type": "code",
   "execution_count": null,
   "id": "b4b44728",
   "metadata": {},
   "outputs": [],
   "source": []
  }
 ],
 "metadata": {
  "kernelspec": {
   "display_name": "Python 3 (ipykernel)",
   "language": "python",
   "name": "python3"
  },
  "language_info": {
   "codemirror_mode": {
    "name": "ipython",
    "version": 3
   },
   "file_extension": ".py",
   "mimetype": "text/x-python",
   "name": "python",
   "nbconvert_exporter": "python",
   "pygments_lexer": "ipython3",
   "version": "3.11.5"
  }
 },
 "nbformat": 4,
 "nbformat_minor": 5
}
