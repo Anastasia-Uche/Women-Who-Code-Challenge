{
 "cells": [
  {
   "cell_type": "markdown",
   "id": "cb49bb28",
   "metadata": {},
   "source": [
    "# Women Who Code Python Challenge"
   ]
  },
  {
   "cell_type": "markdown",
   "id": "2593c3a9",
   "metadata": {},
   "source": [
    "**Day 30: Create a function that finds the second smallest element in a list.**"
   ]
  },
  {
   "cell_type": "code",
   "execution_count": 1,
   "id": "1fd40bcc",
   "metadata": {},
   "outputs": [
    {
     "name": "stdout",
     "output_type": "stream",
     "text": [
      "Second smallest element: 2\n"
     ]
    }
   ],
   "source": [
    "def second_smallest_element(lst):\n",
    "    \n",
    "    smallest = min(lst)\n",
    "    second_smallest = None\n",
    "    \n",
    "    for num in lst:\n",
    "        if num != smallest:\n",
    "            if second_smallest is None or num < second_smallest:\n",
    "                second_smallest = num\n",
    "    return second_smallest\n",
    "\n",
    "# Example:\n",
    "My_list = [20, 30, 5, 10, 2, 1]\n",
    "second_smallest = second_smallest_element(My_list)\n",
    "print(\"Second smallest element:\", second_smallest)"
   ]
  },
  {
   "cell_type": "code",
   "execution_count": 2,
   "id": "5b38ce8c",
   "metadata": {},
   "outputs": [
    {
     "name": "stdout",
     "output_type": "stream",
     "text": [
      "Second smallest element: 2\n"
     ]
    }
   ],
   "source": [
    "def second_smallest_element(lst):\n",
    "    lst.sort()\n",
    "    return lst[1]\n",
    "\n",
    "# Example:\n",
    "My_list = [20, 30, 5, 10, 2, 1]\n",
    "second_smallest = second_smallest_element(My_list)\n",
    "print(\"Second smallest element:\", second_smallest)"
   ]
  },
  {
   "cell_type": "code",
   "execution_count": null,
   "id": "c8f59f78",
   "metadata": {},
   "outputs": [],
   "source": []
  }
 ],
 "metadata": {
  "kernelspec": {
   "display_name": "Python 3 (ipykernel)",
   "language": "python",
   "name": "python3"
  },
  "language_info": {
   "codemirror_mode": {
    "name": "ipython",
    "version": 3
   },
   "file_extension": ".py",
   "mimetype": "text/x-python",
   "name": "python",
   "nbconvert_exporter": "python",
   "pygments_lexer": "ipython3",
   "version": "3.11.5"
  }
 },
 "nbformat": 4,
 "nbformat_minor": 5
}
