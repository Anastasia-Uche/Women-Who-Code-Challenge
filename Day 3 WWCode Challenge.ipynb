{
 "cells": [
  {
   "cell_type": "markdown",
   "id": "b7779c13",
   "metadata": {},
   "source": [
    "# Women Who Code Python Challenge"
   ]
  },
  {
   "cell_type": "markdown",
   "id": "518b3ada",
   "metadata": {},
   "source": [
    "Day 3: Write a function to count the number of vowels in a given string."
   ]
  },
  {
   "cell_type": "code",
   "execution_count": 1,
   "id": "0b860930",
   "metadata": {},
   "outputs": [
    {
     "name": "stdout",
     "output_type": "stream",
     "text": [
      "3\n"
     ]
    }
   ],
   "source": [
    "def vowels_count(string): # I defined the function using string as my parameter\n",
    "    vowels = \"aeiou\" \n",
    "    count = 0 # I initialized a counter to count the vowels.\n",
    "    \n",
    "    for i in string: # i is just a placeholder iterating through each character in my string\n",
    "        if i in vowels:\n",
    "            count += 1 # increment the counter if it's a vowel\n",
    "            \n",
    "    return count\n",
    "\n",
    "# Example:\n",
    "string = \"wonderful\"\n",
    "vowels = vowels_count(string)\n",
    "print(vowels)"
   ]
  },
  {
   "cell_type": "code",
   "execution_count": null,
   "id": "7038653e",
   "metadata": {},
   "outputs": [],
   "source": []
  },
  {
   "cell_type": "code",
   "execution_count": null,
   "id": "d02f9b2b",
   "metadata": {},
   "outputs": [],
   "source": []
  }
 ],
 "metadata": {
  "kernelspec": {
   "display_name": "Python 3 (ipykernel)",
   "language": "python",
   "name": "python3"
  },
  "language_info": {
   "codemirror_mode": {
    "name": "ipython",
    "version": 3
   },
   "file_extension": ".py",
   "mimetype": "text/x-python",
   "name": "python",
   "nbconvert_exporter": "python",
   "pygments_lexer": "ipython3",
   "version": "3.11.5"
  }
 },
 "nbformat": 4,
 "nbformat_minor": 5
}
