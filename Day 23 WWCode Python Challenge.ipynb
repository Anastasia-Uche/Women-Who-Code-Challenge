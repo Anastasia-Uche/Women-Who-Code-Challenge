{
 "cells": [
  {
   "cell_type": "markdown",
   "id": "01635ee7",
   "metadata": {},
   "source": [
    "# Women Who Code Python Challenge"
   ]
  },
  {
   "cell_type": "markdown",
   "id": "f3a1cf4e",
   "metadata": {},
   "source": [
    "**Day 23: Write a program that checks if a key exists in a dictionary.**"
   ]
  },
  {
   "cell_type": "code",
   "execution_count": 1,
   "id": "dccb3950",
   "metadata": {},
   "outputs": [
    {
     "name": "stdout",
     "output_type": "stream",
     "text": [
      "Enter the key to check: School\n",
      "This key is in your dictionary\n",
      "Key exists: True\n"
     ]
    }
   ],
   "source": [
    "def check_key(my_dict):\n",
    "    \n",
    "    key_to_check = input(\"Enter the key to check: \")\n",
    "    if key_to_check in my_dict:\n",
    "        print(\"This key is in your dictionary\")\n",
    "        return True\n",
    "    else:\n",
    "        print(\"This key is not in your dictionary\")\n",
    "        return False\n",
    "\n",
    "My_Dict = {\"Father\": \"Mother\", \"Sister\": \"Brother\", \"Church\": \"Congregation\", \"School\": \"Student\"}\n",
    "\n",
    "key_exists = check_key(My_Dict)\n",
    "print(f\"Key exists: {key_exists}\")"
   ]
  },
  {
   "cell_type": "code",
   "execution_count": null,
   "id": "13c222fe",
   "metadata": {},
   "outputs": [],
   "source": []
  }
 ],
 "metadata": {
  "kernelspec": {
   "display_name": "Python 3 (ipykernel)",
   "language": "python",
   "name": "python3"
  },
  "language_info": {
   "codemirror_mode": {
    "name": "ipython",
    "version": 3
   },
   "file_extension": ".py",
   "mimetype": "text/x-python",
   "name": "python",
   "nbconvert_exporter": "python",
   "pygments_lexer": "ipython3",
   "version": "3.11.5"
  }
 },
 "nbformat": 4,
 "nbformat_minor": 5
}
