{
 "cells": [
  {
   "cell_type": "markdown",
   "id": "972fc45e",
   "metadata": {},
   "source": [
    "# Women Who Code Python Challenge"
   ]
  },
  {
   "cell_type": "markdown",
   "id": "46c8fa2b",
   "metadata": {},
   "source": [
    "**Day 11: Write a program to print the multiplication table of a given number.**"
   ]
  },
  {
   "cell_type": "code",
   "execution_count": 3,
   "id": "d1914f70",
   "metadata": {},
   "outputs": [
    {
     "name": "stdout",
     "output_type": "stream",
     "text": [
      "Enter a number: 9\n",
      "Multiplication Table For 9:\n",
      "9 x 1 = 9\n",
      "9 x 2 = 18\n",
      "9 x 3 = 27\n",
      "9 x 4 = 36\n",
      "9 x 5 = 45\n",
      "9 x 6 = 54\n",
      "9 x 7 = 63\n",
      "9 x 8 = 72\n",
      "9 x 9 = 81\n",
      "9 x 10 = 90\n",
      "9 x 11 = 99\n",
      "9 x 12 = 108\n"
     ]
    }
   ],
   "source": [
    "def multiplication_table(number):\n",
    "    print(f\"Multiplication Table For {number}:\")\n",
    "    \n",
    "    for i in range(1, 13): # Iterate from 1 to 12\n",
    "        multiples = number * i  # Calculate the product of the number and the current iteration value\n",
    "        print(f\"{number} x {i} = {multiples}\") # The format of the output\n",
    "        \n",
    "\n",
    "# I used try and excpet block to handle error in a situation where the user iuput is not an interger\n",
    "try:\n",
    "    user_input = int(input(\"Enter a number: \"))\n",
    "    multiplication_table(user_input)\n",
    "\n",
    "except ValueError:\n",
    "    print(\"Invalid Input! Number must be a positive integer\")"
   ]
  },
  {
   "cell_type": "code",
   "execution_count": null,
   "id": "f9a3fee9",
   "metadata": {},
   "outputs": [],
   "source": []
  }
 ],
 "metadata": {
  "kernelspec": {
   "display_name": "Python 3 (ipykernel)",
   "language": "python",
   "name": "python3"
  },
  "language_info": {
   "codemirror_mode": {
    "name": "ipython",
    "version": 3
   },
   "file_extension": ".py",
   "mimetype": "text/x-python",
   "name": "python",
   "nbconvert_exporter": "python",
   "pygments_lexer": "ipython3",
   "version": "3.11.5"
  }
 },
 "nbformat": 4,
 "nbformat_minor": 5
}
