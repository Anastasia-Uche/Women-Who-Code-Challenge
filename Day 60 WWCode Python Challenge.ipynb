{
 "cells": [
  {
   "cell_type": "markdown",
   "id": "4ad694d3",
   "metadata": {},
   "source": [
    "### Women Who Code Python Challenge"
   ]
  },
  {
   "cell_type": "markdown",
   "id": "646496c1",
   "metadata": {},
   "source": [
    "**Day 60: Create a class representing a simple bank account with deposit and withdraw methods.**"
   ]
  },
  {
   "cell_type": "code",
   "execution_count": 1,
   "id": "c0fb548f",
   "metadata": {},
   "outputs": [
    {
     "name": "stdout",
     "output_type": "stream",
     "text": [
      "Initial balance: 5000\n",
      "After deposit: 25000\n",
      "After withdrawal: 22000\n",
      "Insufficient funds!\n"
     ]
    }
   ],
   "source": [
    "class BankAccount:\n",
    "    def __init__(self, balance=0):\n",
    "        self.balance = balance\n",
    "\n",
    "    def deposit(self, amount):\n",
    "        if amount > 0:\n",
    "            self.balance += amount\n",
    "            return True\n",
    "        else:\n",
    "            print(\"Deposit amount must be greater than 0.\")\n",
    "            return False\n",
    "\n",
    "    def withdraw(self, amount):\n",
    "        if 0 < amount <= self.balance:\n",
    "            self.balance -= amount\n",
    "            return True\n",
    "        else:\n",
    "            print(\"Insufficient funds!\")\n",
    "            return False\n",
    "\n",
    "    def get_balance(self):\n",
    "        return self.balance\n",
    "\n",
    "# Example:\n",
    "if __name__ == \"__main__\":\n",
    "    account = BankAccount(5000)  # Creating an account with an initial balance of 5000\n",
    "    print(\"Initial balance:\", account.get_balance())\n",
    "\n",
    "    account.deposit(20000)  # Depositing 20000\n",
    "    print(\"After deposit:\", account.get_balance())\n",
    "\n",
    "    account.withdraw(3000)  # Withdrawing 3000\n",
    "    print(\"After withdrawal:\", account.get_balance())\n",
    "\n",
    "    account.withdraw(50000)  # Attempting to withdraw more than available balance"
   ]
  },
  {
   "cell_type": "code",
   "execution_count": null,
   "id": "f867300e",
   "metadata": {},
   "outputs": [],
   "source": []
  }
 ],
 "metadata": {
  "kernelspec": {
   "display_name": "Python 3 (ipykernel)",
   "language": "python",
   "name": "python3"
  },
  "language_info": {
   "codemirror_mode": {
    "name": "ipython",
    "version": 3
   },
   "file_extension": ".py",
   "mimetype": "text/x-python",
   "name": "python",
   "nbconvert_exporter": "python",
   "pygments_lexer": "ipython3",
   "version": "3.11.5"
  }
 },
 "nbformat": 4,
 "nbformat_minor": 5
}
