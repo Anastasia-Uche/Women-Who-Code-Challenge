{
 "cells": [
  {
   "cell_type": "markdown",
   "id": "8027c6e8",
   "metadata": {},
   "source": [
    "# Women Who Code Python Challenge"
   ]
  },
  {
   "cell_type": "markdown",
   "id": "e2610aae",
   "metadata": {},
   "source": [
    "**Day 12: Write a program to reverse a given string.**"
   ]
  },
  {
   "cell_type": "code",
   "execution_count": 2,
   "id": "47c97384",
   "metadata": {},
   "outputs": [
    {
     "name": "stdout",
     "output_type": "stream",
     "text": [
      "Enter a string: The hunter killed a rabbit.\n",
      "Original string: The hunter killed a rabbit.\n",
      "Reversed string: .tibbar a dellik retnuh ehT\n"
     ]
    }
   ],
   "source": [
    "def Reversed_String(string):\n",
    "    reversed_string = string[::-1] # I made use of string slicing for the reverse\n",
    "    return reversed_string\n",
    "\n",
    "user_input = input(\"Enter a string: \") # User input to enable the user input a string\n",
    "string = Reversed_String(user_input) # called the function to do the operation\n",
    "\n",
    "print(f\"Original string: {user_input}\")\n",
    "\n",
    "print(f\"Reversed string: {string}\")"
   ]
  },
  {
   "cell_type": "code",
   "execution_count": null,
   "id": "b961b116",
   "metadata": {},
   "outputs": [],
   "source": []
  }
 ],
 "metadata": {
  "kernelspec": {
   "display_name": "Python 3 (ipykernel)",
   "language": "python",
   "name": "python3"
  },
  "language_info": {
   "codemirror_mode": {
    "name": "ipython",
    "version": 3
   },
   "file_extension": ".py",
   "mimetype": "text/x-python",
   "name": "python",
   "nbconvert_exporter": "python",
   "pygments_lexer": "ipython3",
   "version": "3.11.5"
  }
 },
 "nbformat": 4,
 "nbformat_minor": 5
}
