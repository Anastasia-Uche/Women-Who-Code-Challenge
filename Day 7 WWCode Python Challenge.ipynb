{
 "cells": [
  {
   "cell_type": "markdown",
   "id": "1d4c9e5a",
   "metadata": {},
   "source": [
    "# Women Who Code Python Challenge"
   ]
  },
  {
   "cell_type": "markdown",
   "id": "0f284fb6",
   "metadata": {},
   "source": [
    "Day 7: Write a program to check if a number is positive, negative, or zero."
   ]
  },
  {
   "cell_type": "code",
   "execution_count": 2,
   "id": "27e554cc",
   "metadata": {},
   "outputs": [
    {
     "name": "stdout",
     "output_type": "stream",
     "text": [
      "Enter a number: 15\n",
      "The user input number '15' is Positive.\n"
     ]
    }
   ],
   "source": [
    "def check_number(number):\n",
    "    try:\n",
    "        number = float(number)\n",
    "    \n",
    "        if number > 0:\n",
    "            return \"Positive\"\n",
    "        elif number < 0:\n",
    "            return \"Negative\"\n",
    "        else:\n",
    "            return \"Zero\"\n",
    "        \n",
    "    except ValueError:\n",
    "        return \"Invalid input. Please enter a valid number.\"\n",
    "    \n",
    "  \n",
    "user_input = input(\"Enter a number: \")\n",
    "\n",
    "# I used try and except to handle error in a situation where the user input is not an integer/float.\n",
    "# The float conversion also covers integer.\n",
    "        \n",
    "# Example:\n",
    "\n",
    "number_check = check_number(user_input)\n",
    "print(f\"The user input number '{user_input}' is {number_check}.\")"
   ]
  },
  {
   "cell_type": "code",
   "execution_count": null,
   "id": "b51a8a40",
   "metadata": {},
   "outputs": [],
   "source": []
  }
 ],
 "metadata": {
  "kernelspec": {
   "display_name": "Python 3 (ipykernel)",
   "language": "python",
   "name": "python3"
  },
  "language_info": {
   "codemirror_mode": {
    "name": "ipython",
    "version": 3
   },
   "file_extension": ".py",
   "mimetype": "text/x-python",
   "name": "python",
   "nbconvert_exporter": "python",
   "pygments_lexer": "ipython3",
   "version": "3.11.5"
  }
 },
 "nbformat": 4,
 "nbformat_minor": 5
}
