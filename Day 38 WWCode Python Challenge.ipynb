{
 "cells": [
  {
   "cell_type": "markdown",
   "id": "b84e0f2f",
   "metadata": {},
   "source": [
    "# Women Who Code Python Challenge"
   ]
  },
  {
   "cell_type": "markdown",
   "id": "017076e5",
   "metadata": {},
   "source": [
    "**Day 38: Write a program to flatten a nested list.**"
   ]
  },
  {
   "cell_type": "code",
   "execution_count": 1,
   "id": "9063cc6b",
   "metadata": {},
   "outputs": [
    {
     "name": "stdout",
     "output_type": "stream",
     "text": [
      "['Python', 'is', 'fun', 'and', \"i'm\", 'not', 'kidding.']\n"
     ]
    }
   ],
   "source": [
    "def flatten_list(nested_list):\n",
    "    \n",
    "    flattened_list = []\n",
    "    \n",
    "    for i in nested_list:\n",
    "        if isinstance(i, list):\n",
    "            flattened_list.extend(flatten_list(i))\n",
    "        else:\n",
    "            flattened_list.append(i)\n",
    "    return flattened_list\n",
    "\n",
    "\n",
    "Nested_list = [\"Python\", \"is\", \"fun\", [\"and\", \"i'm\", \"not\"], [\"kidding.\"]]\n",
    "Flattened = flatten_list(Nested_list)\n",
    "print(Flattened)"
   ]
  },
  {
   "cell_type": "code",
   "execution_count": null,
   "id": "90ad9e3b",
   "metadata": {},
   "outputs": [],
   "source": []
  }
 ],
 "metadata": {
  "kernelspec": {
   "display_name": "Python 3 (ipykernel)",
   "language": "python",
   "name": "python3"
  },
  "language_info": {
   "codemirror_mode": {
    "name": "ipython",
    "version": 3
   },
   "file_extension": ".py",
   "mimetype": "text/x-python",
   "name": "python",
   "nbconvert_exporter": "python",
   "pygments_lexer": "ipython3",
   "version": "3.11.5"
  }
 },
 "nbformat": 4,
 "nbformat_minor": 5
}
