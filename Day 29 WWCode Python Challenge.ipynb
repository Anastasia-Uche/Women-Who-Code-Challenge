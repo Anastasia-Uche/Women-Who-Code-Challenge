{
 "cells": [
  {
   "cell_type": "markdown",
   "id": "44b87892",
   "metadata": {},
   "source": [
    "# Women Who Code Python Challenge"
   ]
  },
  {
   "cell_type": "markdown",
   "id": "66d49bbf",
   "metadata": {},
   "source": [
    "**Day 29: Create a function that generates a random number between a given range.**"
   ]
  },
  {
   "cell_type": "code",
   "execution_count": 2,
   "id": "091842e2",
   "metadata": {},
   "outputs": [
    {
     "name": "stdout",
     "output_type": "stream",
     "text": [
      "Random number between range 1 and 200: 193\n"
     ]
    }
   ],
   "source": [
    "import random\n",
    "\n",
    "def generate_random_number(start, end):\n",
    "    return random.randint(start, end)\n",
    "\n",
    "# Example\n",
    "Start_range = 1\n",
    "End_range = 200\n",
    "Random_number = generate_random_number(Start_range, End_range)\n",
    "print(f\"Random number between range {Start_range} and {End_range}: {Random_number}\")"
   ]
  },
  {
   "cell_type": "code",
   "execution_count": null,
   "id": "152cbe2f",
   "metadata": {},
   "outputs": [],
   "source": []
  }
 ],
 "metadata": {
  "kernelspec": {
   "display_name": "Python 3 (ipykernel)",
   "language": "python",
   "name": "python3"
  },
  "language_info": {
   "codemirror_mode": {
    "name": "ipython",
    "version": 3
   },
   "file_extension": ".py",
   "mimetype": "text/x-python",
   "name": "python",
   "nbconvert_exporter": "python",
   "pygments_lexer": "ipython3",
   "version": "3.11.5"
  }
 },
 "nbformat": 4,
 "nbformat_minor": 5
}
