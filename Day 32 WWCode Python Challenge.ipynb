{
 "cells": [
  {
   "cell_type": "markdown",
   "id": "20184199",
   "metadata": {},
   "source": [
    "# Women Who Code Python Challenge"
   ]
  },
  {
   "cell_type": "markdown",
   "id": "95882357",
   "metadata": {},
   "source": [
    "**Day 32: Create a function that calculates the average of a list of numbers.**"
   ]
  },
  {
   "cell_type": "code",
   "execution_count": 1,
   "id": "45aa38f3",
   "metadata": {},
   "outputs": [
    {
     "name": "stdout",
     "output_type": "stream",
     "text": [
      "The average of your list is 18.5\n"
     ]
    }
   ],
   "source": [
    "def calculate_average(lst):\n",
    "    \n",
    "    total = sum(lst)\n",
    "    average = total / len(lst)\n",
    "    return average\n",
    "    \n",
    "My_list = [10, 15, 20, 50, 12, 4]\n",
    "Average_number = calculate_average(My_list)\n",
    "print(f\"The average of your list is {Average_number}\")"
   ]
  },
  {
   "cell_type": "code",
   "execution_count": null,
   "id": "3930b542",
   "metadata": {},
   "outputs": [],
   "source": []
  }
 ],
 "metadata": {
  "kernelspec": {
   "display_name": "Python 3 (ipykernel)",
   "language": "python",
   "name": "python3"
  },
  "language_info": {
   "codemirror_mode": {
    "name": "ipython",
    "version": 3
   },
   "file_extension": ".py",
   "mimetype": "text/x-python",
   "name": "python",
   "nbconvert_exporter": "python",
   "pygments_lexer": "ipython3",
   "version": "3.11.5"
  }
 },
 "nbformat": 4,
 "nbformat_minor": 5
}
