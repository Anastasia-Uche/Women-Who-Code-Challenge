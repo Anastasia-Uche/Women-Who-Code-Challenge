{
 "cells": [
  {
   "cell_type": "markdown",
   "id": "809216f3",
   "metadata": {},
   "source": [
    "# Women Who Code Python Challenge"
   ]
  },
  {
   "cell_type": "markdown",
   "id": "f20d6912",
   "metadata": {},
   "source": [
    "**Day 27: Create a program that sorts a list of strings alphabetically.**"
   ]
  },
  {
   "cell_type": "code",
   "execution_count": 2,
   "id": "18e5f0f7",
   "metadata": {},
   "outputs": [
    {
     "name": "stdout",
     "output_type": "stream",
     "text": [
      "Original list of strings: ['Women', 'Who', 'Code', 'Python', 'Challenge']\n",
      "Sorted list of strings: ['Challenge', 'Code', 'Python', 'Who', 'Women']\n"
     ]
    }
   ],
   "source": [
    "def sort_strings_alphabetically(lst):\n",
    "    return sorted(lst)\n",
    "\n",
    "List_of_Strings = [\"Women\", \"Who\", \"Code\", \"Python\", \"Challenge\"]\n",
    "Sorted_List = sort_strings_alphabetically(List_of_Strings)\n",
    "\n",
    "print(\"Original list of strings:\", List_of_Strings)\n",
    "print(\"Sorted list of strings:\", Sorted_List)"
   ]
  },
  {
   "cell_type": "code",
   "execution_count": null,
   "id": "8e4dd7dd",
   "metadata": {},
   "outputs": [],
   "source": []
  }
 ],
 "metadata": {
  "kernelspec": {
   "display_name": "Python 3 (ipykernel)",
   "language": "python",
   "name": "python3"
  },
  "language_info": {
   "codemirror_mode": {
    "name": "ipython",
    "version": 3
   },
   "file_extension": ".py",
   "mimetype": "text/x-python",
   "name": "python",
   "nbconvert_exporter": "python",
   "pygments_lexer": "ipython3",
   "version": "3.11.5"
  }
 },
 "nbformat": 4,
 "nbformat_minor": 5
}
