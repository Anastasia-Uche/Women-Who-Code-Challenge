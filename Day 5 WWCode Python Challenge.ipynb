{
 "cells": [
  {
   "cell_type": "markdown",
   "id": "68bed08a",
   "metadata": {},
   "source": [
    "# Women Who Code Python Challenge"
   ]
  },
  {
   "cell_type": "markdown",
   "id": "5dd52306",
   "metadata": {},
   "source": [
    "Day 5: Write a program to find the maximum and minimum values in a list."
   ]
  },
  {
   "cell_type": "code",
   "execution_count": 2,
   "id": "63bc65d1",
   "metadata": {},
   "outputs": [
    {
     "name": "stdout",
     "output_type": "stream",
     "text": [
      "Maximum_value is 41\n",
      "Minimum_value is 3\n"
     ]
    }
   ],
   "source": [
    "My_list = [3, 6, 30, 41, 15, 20]\n",
    "\n",
    "Maximum_Number = max(My_list)\n",
    "\n",
    "Minimum_Number = min(My_list)\n",
    "\n",
    "print(f\"Maximum_value is {Maximum_Number}\")\n",
    "print(f\"Minimum_value is {Minimum_Number}\")"
   ]
  },
  {
   "cell_type": "code",
   "execution_count": 3,
   "id": "5d862866",
   "metadata": {},
   "outputs": [
    {
     "name": "stdout",
     "output_type": "stream",
     "text": [
      "Maximum_value is 41\n",
      "Minimum_value is 3\n"
     ]
    }
   ],
   "source": [
    "def max_min_values(lst):\n",
    "    \n",
    "    Maximum_value = max(lst)\n",
    "    Minimum_value = min(lst)\n",
    "    \n",
    "    return Maximum_value, Minimum_value\n",
    "\n",
    "My_list = [3, 6, 30, 41, 15, 20]\n",
    "Max_value, Min_value = max_min_values(My_list)\n",
    "\n",
    "print(f\"Maximum_value is {Max_value}\")\n",
    "print(f\"Minimum_value is {Min_value}\")"
   ]
  }
 ],
 "metadata": {
  "kernelspec": {
   "display_name": "Python 3 (ipykernel)",
   "language": "python",
   "name": "python3"
  },
  "language_info": {
   "codemirror_mode": {
    "name": "ipython",
    "version": 3
   },
   "file_extension": ".py",
   "mimetype": "text/x-python",
   "name": "python",
   "nbconvert_exporter": "python",
   "pygments_lexer": "ipython3",
   "version": "3.11.5"
  }
 },
 "nbformat": 4,
 "nbformat_minor": 5
}
