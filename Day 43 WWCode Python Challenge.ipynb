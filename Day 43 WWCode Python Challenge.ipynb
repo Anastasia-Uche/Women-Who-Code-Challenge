{
 "cells": [
  {
   "cell_type": "markdown",
   "id": "3d6fcd9a",
   "metadata": {},
   "source": [
    "### Women Who Code Python Challenge"
   ]
  },
  {
   "cell_type": "markdown",
   "id": "1d873e36",
   "metadata": {},
   "source": [
    "**Day 43: Write a program that removes all whitespaces from a given string.**"
   ]
  },
  {
   "cell_type": "code",
   "execution_count": 1,
   "id": "21cfc22b",
   "metadata": {},
   "outputs": [
    {
     "name": "stdout",
     "output_type": "stream",
     "text": [
      "Enter string: She is creative\n",
      " Sheiscreative\n"
     ]
    }
   ],
   "source": [
    "def remove_whitespaces(string):\n",
    "    \n",
    "    My_string = \" \"\n",
    "    \n",
    "    for s in string:\n",
    "        if s != \" \":\n",
    "            My_string += s\n",
    "    return My_string\n",
    "\n",
    "# Example:\n",
    "String = input(\"Enter string: \")\n",
    "Whitespace_removal = remove_whitespaces(String)\n",
    "print(Whitespace_removal)"
   ]
  },
  {
   "cell_type": "code",
   "execution_count": null,
   "id": "0597ed07",
   "metadata": {},
   "outputs": [],
   "source": []
  }
 ],
 "metadata": {
  "kernelspec": {
   "display_name": "Python 3 (ipykernel)",
   "language": "python",
   "name": "python3"
  },
  "language_info": {
   "codemirror_mode": {
    "name": "ipython",
    "version": 3
   },
   "file_extension": ".py",
   "mimetype": "text/x-python",
   "name": "python",
   "nbconvert_exporter": "python",
   "pygments_lexer": "ipython3",
   "version": "3.11.5"
  }
 },
 "nbformat": 4,
 "nbformat_minor": 5
}
