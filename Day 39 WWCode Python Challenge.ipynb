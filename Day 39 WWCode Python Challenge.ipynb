{
 "cells": [
  {
   "cell_type": "markdown",
   "id": "e779ba43",
   "metadata": {},
   "source": [
    "### Women Who Code Python Challenge"
   ]
  },
  {
   "cell_type": "markdown",
   "id": "ea43053d",
   "metadata": {},
   "source": [
    "**Day 39: Write a program to find the most common words in a test file.**"
   ]
  },
  {
   "cell_type": "code",
   "execution_count": 1,
   "id": "cc8e3067",
   "metadata": {},
   "outputs": [
    {
     "name": "stdout",
     "output_type": "stream",
     "text": [
      "Contents of the text document:\n",
      "Title: The Enchanted Forest\n",
      "Once upon a time, in a land far away, there existed a mystical forest known as Eldoria. Legend had it that this forest was enchanted, filled with magic and wonder beyond imagination. Many brave adventurers sought to explore its depths, hoping to uncover its secrets and unlock its hidden treasures.\n",
      "Among these adventurers was a young woman named Elara. With her trusty map in hand and a heart full of curiosity, Elara set out on a journey to Eldoria. As she ventured deeper into the forest, she marveled at the towering trees that seemed to whisper ancient tales and the sparkling streams that danced with the light of the sun.\n",
      "But Eldoria was not without its dangers. Along the way, Elara encountered all manner of fantastical creatures  from mischievous sprites to fearsome dragons. Yet, with courage and determination, she pressed on, driven by the promise of adventure that lay ahead.\n",
      "As she delved deeper into the heart of Eldoria, Elara stumbled upon a clearing bathed in ethereal light. At its center stood a magnificent tree, its branches reaching towards the sky like outstretched arms. Drawn by an irresistible pull, Elara approached the tree and placed her hand upon its trunk.\n",
      "Suddenly, a wave of energy surged through her, filling her with a sense of wonder and awe. In that moment, she understood the true power of Eldoria  not in its treasures or its mysteries, but in the magic of the forest itself.\n",
      "With newfound wisdom, Elara returned home, forever changed by her journey through the enchanted forest. And though she would never forget the wonders she had seen or the challenges she had faced, she knew that the greatest adventure of all was the journey within  the journey to discover the magic that lay hidden within her own heart.\n",
      "\n",
      "\n",
      "\n",
      "The most common words in the file are:\n",
      "the: 20\n",
      "a: 10\n",
      "of: 10\n",
      "its: 9\n",
      "she: 9\n",
      "that: 7\n",
      "and: 7\n",
      "to: 6\n",
      "in: 5\n",
      "her: 5\n"
     ]
    }
   ],
   "source": [
    "from collections import Counter\n",
    "import re\n",
    "\n",
    "def clean_text(text):\n",
    "    cleaned_text = re.sub(r'[^\\w\\s]', '', text.lower()) # Remove punctuation and convert text to lowercase\n",
    "    return cleaned_text\n",
    "\n",
    "def find_most_common_words(text, num_words=10):\n",
    "    words = text.split()\n",
    "    word_counts = Counter(words)\n",
    "    most_common_words = word_counts.most_common(num_words)\n",
    "    return most_common_words\n",
    "\n",
    "def read_text_from_txt(file_path):\n",
    "    with open(file_path, 'r', encoding='utf-8', errors='ignore') as file:\n",
    "        text = file.read()\n",
    "    return text\n",
    "\n",
    "def main():\n",
    "    file_path = 'C:/Users/ANASTASIA/Desktop/The Enchanted Forest.txt'\n",
    "    text = read_text_from_txt(file_path)\n",
    "    print(\"Contents of the text document:\")\n",
    "    print(text)\n",
    "    most_common_words = find_most_common_words(text)\n",
    "    print(\"\\nThe most common words in the file are:\")\n",
    "    for word, count in most_common_words:\n",
    "        print(f\"{word}: {count}\")\n",
    "\n",
    "if __name__ == \"__main__\":\n",
    "    main()"
   ]
  },
  {
   "cell_type": "code",
   "execution_count": null,
   "id": "0a0238b6",
   "metadata": {},
   "outputs": [],
   "source": []
  }
 ],
 "metadata": {
  "kernelspec": {
   "display_name": "Python 3 (ipykernel)",
   "language": "python",
   "name": "python3"
  },
  "language_info": {
   "codemirror_mode": {
    "name": "ipython",
    "version": 3
   },
   "file_extension": ".py",
   "mimetype": "text/x-python",
   "name": "python",
   "nbconvert_exporter": "python",
   "pygments_lexer": "ipython3",
   "version": "3.11.5"
  }
 },
 "nbformat": 4,
 "nbformat_minor": 5
}
