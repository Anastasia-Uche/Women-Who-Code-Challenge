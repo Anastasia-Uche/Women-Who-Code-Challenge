{
 "cells": [
  {
   "cell_type": "markdown",
   "id": "dc2775b2",
   "metadata": {},
   "source": [
    "### Women Who Code Python Challenge"
   ]
  },
  {
   "cell_type": "markdown",
   "id": "eceabd60",
   "metadata": {},
   "source": [
    "**Day 42: Write a program that uses a try-except block to handle division by zero.**"
   ]
  },
  {
   "cell_type": "code",
   "execution_count": 1,
   "id": "366495a2",
   "metadata": {},
   "outputs": [
    {
     "name": "stdout",
     "output_type": "stream",
     "text": [
      "Enter a valid integer: 20\n",
      "Enter a number to divide Nun_input: 0\n",
      "Division by zero is not allowed\n",
      "Enter a valid integer: 12\n",
      "Enter a number to divide Nun_input: one\n",
      "Invalid Input. Your input must be a valid integer.\n",
      "Enter a valid integer: 6\n",
      "Enter a number to divide Nun_input: 2\n",
      "Result of Division: 3\n"
     ]
    }
   ],
   "source": [
    "def division_by_zero():\n",
    "    \n",
    "    while True:\n",
    "        try:\n",
    "            Num_input = int(input(\"Enter a valid integer: \"))\n",
    "            Division_input = int(input(\"Enter a number to divide Nun_input: \"))\n",
    "            if Division_input == 0:\n",
    "                raise ZeroDivisionError\n",
    "            Division = Num_input // Division_input\n",
    "            print(\"Result of Division:\", Division)\n",
    "            break\n",
    "        except ValueError:\n",
    "            print(\"Invalid Input. Your input must be a valid integer.\")\n",
    "        except ZeroDivisionError:\n",
    "            print(\"Division by zero is not allowed\")\n",
    "            \n",
    "#Example:\n",
    "division_by_zero()"
   ]
  },
  {
   "cell_type": "code",
   "execution_count": null,
   "id": "fb08081e",
   "metadata": {},
   "outputs": [],
   "source": []
  }
 ],
 "metadata": {
  "kernelspec": {
   "display_name": "Python 3 (ipykernel)",
   "language": "python",
   "name": "python3"
  },
  "language_info": {
   "codemirror_mode": {
    "name": "ipython",
    "version": 3
   },
   "file_extension": ".py",
   "mimetype": "text/x-python",
   "name": "python",
   "nbconvert_exporter": "python",
   "pygments_lexer": "ipython3",
   "version": "3.11.5"
  }
 },
 "nbformat": 4,
 "nbformat_minor": 5
}
