{
 "cells": [
  {
   "cell_type": "markdown",
   "id": "57db73be",
   "metadata": {},
   "source": [
    "# Women Who Code Python Challenge"
   ]
  },
  {
   "cell_type": "markdown",
   "id": "a8be352c",
   "metadata": {},
   "source": [
    "**Day 33: Write a test score for a function that checks if a number is prime.**"
   ]
  },
  {
   "cell_type": "code",
   "execution_count": 1,
   "id": "dc64e393",
   "metadata": {},
   "outputs": [
    {
     "name": "stdout",
     "output_type": "stream",
     "text": [
      "Enter a positive integer to check: 71\n",
      "It's a Prime number\n"
     ]
    }
   ],
   "source": [
    "def check_prime_num(number):\n",
    "    \n",
    "    if number > 1:\n",
    "        for i in range(2, number):\n",
    "            if number % i == 0:\n",
    "                return \"Number is not a prime number\"\n",
    "        return \"It's a Prime number\"\n",
    "    else:\n",
    "        return \"Number is not a prime number\"\n",
    "\n",
    "Number = int(input(\"Enter a positive integer to check: \"))\n",
    "Prime_num = check_prime_num(Number)\n",
    "print(Prime_num)"
   ]
  },
  {
   "cell_type": "code",
   "execution_count": null,
   "id": "9aac507a",
   "metadata": {},
   "outputs": [],
   "source": []
  }
 ],
 "metadata": {
  "kernelspec": {
   "display_name": "Python 3 (ipykernel)",
   "language": "python",
   "name": "python3"
  },
  "language_info": {
   "codemirror_mode": {
    "name": "ipython",
    "version": 3
   },
   "file_extension": ".py",
   "mimetype": "text/x-python",
   "name": "python",
   "nbconvert_exporter": "python",
   "pygments_lexer": "ipython3",
   "version": "3.11.5"
  }
 },
 "nbformat": 4,
 "nbformat_minor": 5
}
