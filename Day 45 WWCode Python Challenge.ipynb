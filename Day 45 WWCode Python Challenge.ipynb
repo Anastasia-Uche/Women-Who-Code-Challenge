{
 "cells": [
  {
   "cell_type": "markdown",
   "id": "2f805582",
   "metadata": {},
   "source": [
    "### Women Who Code Python Challenge"
   ]
  },
  {
   "cell_type": "markdown",
   "id": "7096513b",
   "metadata": {},
   "source": [
    "**Day 45: Write a funtion to check if a number is a prime number.**"
   ]
  },
  {
   "cell_type": "code",
   "execution_count": 1,
   "id": "384cb6b1",
   "metadata": {},
   "outputs": [
    {
     "name": "stdout",
     "output_type": "stream",
     "text": [
      "Enter a number: 263\n",
      "Input is a prime number\n"
     ]
    }
   ],
   "source": [
    "def check_prime(num):\n",
    "    \n",
    "    if num < 2:\n",
    "        return False\n",
    "    \n",
    "    for i in range(2, num):\n",
    "        if num  % i == 0:\n",
    "            return False\n",
    "    return True\n",
    "\n",
    "# Example:\n",
    "try:\n",
    "    num_input = int(input(\"Enter a number: \"))\n",
    "    check = check_prime(num_input)\n",
    "\n",
    "    if check:\n",
    "        print(\"Input is a prime number\")\n",
    "    \n",
    "    else:\n",
    "        print(\"Input is not a prime number\")\n",
    "except ValueError:\n",
    "    print(\"Invalid input! Put a valid number\")"
   ]
  },
  {
   "cell_type": "code",
   "execution_count": null,
   "id": "a729d956",
   "metadata": {},
   "outputs": [],
   "source": []
  }
 ],
 "metadata": {
  "kernelspec": {
   "display_name": "Python 3 (ipykernel)",
   "language": "python",
   "name": "python3"
  },
  "language_info": {
   "codemirror_mode": {
    "name": "ipython",
    "version": 3
   },
   "file_extension": ".py",
   "mimetype": "text/x-python",
   "name": "python",
   "nbconvert_exporter": "python",
   "pygments_lexer": "ipython3",
   "version": "3.11.5"
  }
 },
 "nbformat": 4,
 "nbformat_minor": 5
}
